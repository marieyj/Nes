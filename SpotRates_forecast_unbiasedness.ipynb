{
  "nbformat": 4,
  "nbformat_minor": 0,
  "metadata": {
    "colab": {
      "name": "EcmHA3Dvoichenkova.ipynb",
      "provenance": []
    },
    "kernelspec": {
      "name": "python3",
      "display_name": "Python 3"
    },
    "language_info": {
      "name": "python"
    }
  },
  "cells": [
    {
      "cell_type": "code",
      "execution_count": 34,
      "metadata": {
        "id": "QyFsHls7hPNP"
      },
      "outputs": [],
      "source": [
        "import numpy as np\n",
        "import pandas as pd\n",
        "import statsmodels.api as sm \n",
        "import scipy as sp\n",
        "from scipy import stats\n",
        "import statsmodels.stats.sandwich_covariance as sc"
      ]
    },
    {
      "cell_type": "code",
      "source": [
        " df1 = pd.read_csv('FwdSpot1.dat', sep = '\\s+', header = None, names = ['m', 'y', 'sgbp', 'sfrf', 'sjpy', 'f1gbp', 'f1frf', 'f1jpy'])"
      ],
      "metadata": {
        "id": "qA15JdBkhdZZ"
      },
      "execution_count": 7,
      "outputs": []
    },
    {
      "cell_type": "code",
      "source": [
        "df2 = pd.read_csv('FwdSpot3.dat', sep = '\\s+', header = None, names = ['m', 'y', 'sgbp', 'sfrf', 'sjpy', 'f3gbp', 'f3frf', 'f3jpy'])"
      ],
      "metadata": {
        "id": "Ov-qYlcZhhOK"
      },
      "execution_count": 8,
      "outputs": []
    },
    {
      "cell_type": "code",
      "source": [
        "for x in ['sgbp', 'sfrf', 'sjpy', 'f1gbp', 'f1frf', 'f1jpy']: df1['l' + x] = np.log(df1[x])\n",
        "for x in ['sgbp', 'sfrf', 'sjpy', 'f3gbp', 'f3frf', 'f3jpy']: df2['l' + x] = np.log(df2[x])"
      ],
      "metadata": {
        "id": "S1WX03WShoG5"
      },
      "execution_count": 9,
      "outputs": []
    },
    {
      "cell_type": "code",
      "source": [
        "df1df = df1[['l'+x for x in ['sgbp', 'sfrf', 'sjpy']]].diff(periods = 1, axis = 0) \n",
        "df1df = df1df.drop(df1df.index[0]).reset_index().drop(['index'], axis = 1)\n",
        "df1df1 = pd.DataFrame()\n",
        "for x in ['f1gbp', 'f1frf', 'f1jpy']:\n",
        "    df1df1['l'+x] = df1['l'+x] - df1['ls'+x[2:]]\n",
        "df1df1 = df1df1.drop(df1df1.index[-1]).reset_index().drop(['index'], axis = 1) \n",
        "for x in ['f1gbp', 'f1frf', 'f1jpy']:\n",
        "    df1df['l'+x] = df1df1['l'+x]\n",
        "df1df['ic'] = 1"
      ],
      "metadata": {
        "id": "y02P726Qh0V3"
      },
      "execution_count": 12,
      "outputs": []
    },
    {
      "cell_type": "code",
      "source": [
        "df1df.head()"
      ],
      "metadata": {
        "colab": {
          "base_uri": "https://localhost:8080/",
          "height": 201
        },
        "id": "qB6JrtP_iZHx",
        "outputId": "06d4b1ca-d7e2-4b04-c7dd-22063c4ea190"
      },
      "execution_count": 13,
      "outputs": [
        {
          "output_type": "execute_result",
          "data": {
            "text/plain": [
              "      lsgbp     lsfrf     lsjpy    lf1gbp    lf1frf    lf1jpy  ic\n",
              "0  0.004595 -0.007289  0.002927 -0.002378  0.001583  0.007435   1\n",
              "1  0.033647  0.052550  0.006622 -0.001810  0.000791  0.000797   1\n",
              "2  0.004074  0.044546  0.004478 -0.001284  0.000434  0.003952   1\n",
              "3 -0.029591  0.005792 -0.008711 -0.001701  0.000000  0.007593   1\n",
              "4 -0.019615 -0.044714 -0.000796 -0.002386  0.001744  0.013430   1"
            ],
            "text/html": [
              "\n",
              "  <div id=\"df-edd6304f-5c49-4133-8052-0f711700d962\">\n",
              "    <div class=\"colab-df-container\">\n",
              "      <div>\n",
              "<style scoped>\n",
              "    .dataframe tbody tr th:only-of-type {\n",
              "        vertical-align: middle;\n",
              "    }\n",
              "\n",
              "    .dataframe tbody tr th {\n",
              "        vertical-align: top;\n",
              "    }\n",
              "\n",
              "    .dataframe thead th {\n",
              "        text-align: right;\n",
              "    }\n",
              "</style>\n",
              "<table border=\"1\" class=\"dataframe\">\n",
              "  <thead>\n",
              "    <tr style=\"text-align: right;\">\n",
              "      <th></th>\n",
              "      <th>lsgbp</th>\n",
              "      <th>lsfrf</th>\n",
              "      <th>lsjpy</th>\n",
              "      <th>lf1gbp</th>\n",
              "      <th>lf1frf</th>\n",
              "      <th>lf1jpy</th>\n",
              "      <th>ic</th>\n",
              "    </tr>\n",
              "  </thead>\n",
              "  <tbody>\n",
              "    <tr>\n",
              "      <th>0</th>\n",
              "      <td>0.004595</td>\n",
              "      <td>-0.007289</td>\n",
              "      <td>0.002927</td>\n",
              "      <td>-0.002378</td>\n",
              "      <td>0.001583</td>\n",
              "      <td>0.007435</td>\n",
              "      <td>1</td>\n",
              "    </tr>\n",
              "    <tr>\n",
              "      <th>1</th>\n",
              "      <td>0.033647</td>\n",
              "      <td>0.052550</td>\n",
              "      <td>0.006622</td>\n",
              "      <td>-0.001810</td>\n",
              "      <td>0.000791</td>\n",
              "      <td>0.000797</td>\n",
              "      <td>1</td>\n",
              "    </tr>\n",
              "    <tr>\n",
              "      <th>2</th>\n",
              "      <td>0.004074</td>\n",
              "      <td>0.044546</td>\n",
              "      <td>0.004478</td>\n",
              "      <td>-0.001284</td>\n",
              "      <td>0.000434</td>\n",
              "      <td>0.003952</td>\n",
              "      <td>1</td>\n",
              "    </tr>\n",
              "    <tr>\n",
              "      <th>3</th>\n",
              "      <td>-0.029591</td>\n",
              "      <td>0.005792</td>\n",
              "      <td>-0.008711</td>\n",
              "      <td>-0.001701</td>\n",
              "      <td>0.000000</td>\n",
              "      <td>0.007593</td>\n",
              "      <td>1</td>\n",
              "    </tr>\n",
              "    <tr>\n",
              "      <th>4</th>\n",
              "      <td>-0.019615</td>\n",
              "      <td>-0.044714</td>\n",
              "      <td>-0.000796</td>\n",
              "      <td>-0.002386</td>\n",
              "      <td>0.001744</td>\n",
              "      <td>0.013430</td>\n",
              "      <td>1</td>\n",
              "    </tr>\n",
              "  </tbody>\n",
              "</table>\n",
              "</div>\n",
              "      <button class=\"colab-df-convert\" onclick=\"convertToInteractive('df-edd6304f-5c49-4133-8052-0f711700d962')\"\n",
              "              title=\"Convert this dataframe to an interactive table.\"\n",
              "              style=\"display:none;\">\n",
              "        \n",
              "  <svg xmlns=\"http://www.w3.org/2000/svg\" height=\"24px\"viewBox=\"0 0 24 24\"\n",
              "       width=\"24px\">\n",
              "    <path d=\"M0 0h24v24H0V0z\" fill=\"none\"/>\n",
              "    <path d=\"M18.56 5.44l.94 2.06.94-2.06 2.06-.94-2.06-.94-.94-2.06-.94 2.06-2.06.94zm-11 1L8.5 8.5l.94-2.06 2.06-.94-2.06-.94L8.5 2.5l-.94 2.06-2.06.94zm10 10l.94 2.06.94-2.06 2.06-.94-2.06-.94-.94-2.06-.94 2.06-2.06.94z\"/><path d=\"M17.41 7.96l-1.37-1.37c-.4-.4-.92-.59-1.43-.59-.52 0-1.04.2-1.43.59L10.3 9.45l-7.72 7.72c-.78.78-.78 2.05 0 2.83L4 21.41c.39.39.9.59 1.41.59.51 0 1.02-.2 1.41-.59l7.78-7.78 2.81-2.81c.8-.78.8-2.07 0-2.86zM5.41 20L4 18.59l7.72-7.72 1.47 1.35L5.41 20z\"/>\n",
              "  </svg>\n",
              "      </button>\n",
              "      \n",
              "  <style>\n",
              "    .colab-df-container {\n",
              "      display:flex;\n",
              "      flex-wrap:wrap;\n",
              "      gap: 12px;\n",
              "    }\n",
              "\n",
              "    .colab-df-convert {\n",
              "      background-color: #E8F0FE;\n",
              "      border: none;\n",
              "      border-radius: 50%;\n",
              "      cursor: pointer;\n",
              "      display: none;\n",
              "      fill: #1967D2;\n",
              "      height: 32px;\n",
              "      padding: 0 0 0 0;\n",
              "      width: 32px;\n",
              "    }\n",
              "\n",
              "    .colab-df-convert:hover {\n",
              "      background-color: #E2EBFA;\n",
              "      box-shadow: 0px 1px 2px rgba(60, 64, 67, 0.3), 0px 1px 3px 1px rgba(60, 64, 67, 0.15);\n",
              "      fill: #174EA6;\n",
              "    }\n",
              "\n",
              "    [theme=dark] .colab-df-convert {\n",
              "      background-color: #3B4455;\n",
              "      fill: #D2E3FC;\n",
              "    }\n",
              "\n",
              "    [theme=dark] .colab-df-convert:hover {\n",
              "      background-color: #434B5C;\n",
              "      box-shadow: 0px 1px 3px 1px rgba(0, 0, 0, 0.15);\n",
              "      filter: drop-shadow(0px 1px 2px rgba(0, 0, 0, 0.3));\n",
              "      fill: #FFFFFF;\n",
              "    }\n",
              "  </style>\n",
              "\n",
              "      <script>\n",
              "        const buttonEl =\n",
              "          document.querySelector('#df-edd6304f-5c49-4133-8052-0f711700d962 button.colab-df-convert');\n",
              "        buttonEl.style.display =\n",
              "          google.colab.kernel.accessAllowed ? 'block' : 'none';\n",
              "\n",
              "        async function convertToInteractive(key) {\n",
              "          const element = document.querySelector('#df-edd6304f-5c49-4133-8052-0f711700d962');\n",
              "          const dataTable =\n",
              "            await google.colab.kernel.invokeFunction('convertToInteractive',\n",
              "                                                     [key], {});\n",
              "          if (!dataTable) return;\n",
              "\n",
              "          const docLinkHtml = 'Like what you see? Visit the ' +\n",
              "            '<a target=\"_blank\" href=https://colab.research.google.com/notebooks/data_table.ipynb>data table notebook</a>'\n",
              "            + ' to learn more about interactive tables.';\n",
              "          element.innerHTML = '';\n",
              "          dataTable['output_type'] = 'display_data';\n",
              "          await google.colab.output.renderOutput(dataTable, element);\n",
              "          const docLink = document.createElement('div');\n",
              "          docLink.innerHTML = docLinkHtml;\n",
              "          element.appendChild(docLink);\n",
              "        }\n",
              "      </script>\n",
              "    </div>\n",
              "  </div>\n",
              "  "
            ]
          },
          "metadata": {},
          "execution_count": 13
        }
      ]
    },
    {
      "cell_type": "code",
      "source": [
        "mdp1 = sm.OLS(df1df['lsgbp'], df1df[['ic', 'lf1gbp']])\n",
        "resp1 = mdp1.fit(cov_type = 'HC2')\n",
        "mdf1 = sm.OLS(df1df['lsfrf'], df1df[['ic', 'lf1frf']])\n",
        "resf1 = mdf1.fit(cov_type = 'HC2')\n",
        "mdj1 = sm.OLS(df1df['lsjpy'], df1df[['ic', 'lf1jpy']])\n",
        "resj1 = mdj1.fit(cov_type = 'HC2')"
      ],
      "metadata": {
        "id": "3prPkEUyibL3"
      },
      "execution_count": 14,
      "outputs": []
    },
    {
      "cell_type": "code",
      "source": [
        "print(resp1.summary())"
      ],
      "metadata": {
        "colab": {
          "base_uri": "https://localhost:8080/"
        },
        "id": "sQKJK9AJijjm",
        "outputId": "5af35986-101b-4aeb-e153-cc1cb80242b6"
      },
      "execution_count": 16,
      "outputs": [
        {
          "output_type": "stream",
          "name": "stdout",
          "text": [
            "                            OLS Regression Results                            \n",
            "==============================================================================\n",
            "Dep. Variable:                  lsgbp   R-squared:                       0.006\n",
            "Model:                            OLS   Adj. R-squared:                  0.002\n",
            "Method:                 Least Squares   F-statistic:                     1.231\n",
            "Date:                Wed, 01 Jun 2022   Prob (F-statistic):              0.268\n",
            "Time:                        13:53:18   Log-Likelihood:                 472.04\n",
            "No. Observations:                 233   AIC:                            -940.1\n",
            "Df Residuals:                     231   BIC:                            -933.2\n",
            "Df Model:                           1                                         \n",
            "Covariance Type:                  HC2                                         \n",
            "==============================================================================\n",
            "                 coef    std err          z      P>|z|      [0.025      0.975]\n",
            "------------------------------------------------------------------------------\n",
            "ic            -0.0023      0.002     -0.962      0.336      -0.007       0.002\n",
            "lf1gbp        -0.7261      0.654     -1.110      0.267      -2.009       0.556\n",
            "==============================================================================\n",
            "Omnibus:                       11.801   Durbin-Watson:                   1.877\n",
            "Prob(Omnibus):                  0.003   Jarque-Bera (JB):               20.124\n",
            "Skew:                           0.267   Prob(JB):                     4.27e-05\n",
            "Kurtosis:                       4.337   Cond. No.                         289.\n",
            "==============================================================================\n",
            "\n",
            "Warnings:\n",
            "[1] Standard Errors are heteroscedasticity robust (HC2)\n"
          ]
        }
      ]
    },
    {
      "cell_type": "code",
      "source": [
        "print(resf1.summary())"
      ],
      "metadata": {
        "colab": {
          "base_uri": "https://localhost:8080/"
        },
        "id": "Z7jy7_4witI3",
        "outputId": "5f19be95-4f16-4945-a39b-1e767e97f727"
      },
      "execution_count": 17,
      "outputs": [
        {
          "output_type": "stream",
          "name": "stdout",
          "text": [
            "                            OLS Regression Results                            \n",
            "==============================================================================\n",
            "Dep. Variable:                  lsfrf   R-squared:                       0.009\n",
            "Model:                            OLS   Adj. R-squared:                  0.005\n",
            "Method:                 Least Squares   F-statistic:                     1.232\n",
            "Date:                Wed, 01 Jun 2022   Prob (F-statistic):              0.268\n",
            "Time:                        13:53:25   Log-Likelihood:                 469.21\n",
            "No. Observations:                 233   AIC:                            -934.4\n",
            "Df Residuals:                     231   BIC:                            -927.5\n",
            "Df Model:                           1                                         \n",
            "Covariance Type:                  HC2                                         \n",
            "==============================================================================\n",
            "                 coef    std err          z      P>|z|      [0.025      0.975]\n",
            "------------------------------------------------------------------------------\n",
            "ic            -0.0023      0.003     -0.869      0.385      -0.007       0.003\n",
            "lf1frf        -0.9606      0.865     -1.110      0.267      -2.656       0.735\n",
            "==============================================================================\n",
            "Omnibus:                        4.936   Durbin-Watson:                   1.961\n",
            "Prob(Omnibus):                  0.085   Jarque-Bera (JB):                4.814\n",
            "Skew:                          -0.259   Prob(JB):                       0.0901\n",
            "Kurtosis:                       3.477   Cond. No.                         310.\n",
            "==============================================================================\n",
            "\n",
            "Warnings:\n",
            "[1] Standard Errors are heteroscedasticity robust (HC2)\n"
          ]
        }
      ]
    },
    {
      "cell_type": "code",
      "source": [
        "print(resj1.summary())"
      ],
      "metadata": {
        "colab": {
          "base_uri": "https://localhost:8080/"
        },
        "id": "Ju6sXVSkivL4",
        "outputId": "4551e32c-bf2f-4cbf-b309-38edcce6c4c2"
      },
      "execution_count": 18,
      "outputs": [
        {
          "output_type": "stream",
          "name": "stdout",
          "text": [
            "                            OLS Regression Results                            \n",
            "==============================================================================\n",
            "Dep. Variable:                  lsjpy   R-squared:                       0.001\n",
            "Model:                            OLS   Adj. R-squared:                 -0.004\n",
            "Method:                 Least Squares   F-statistic:                   0.05814\n",
            "Date:                Wed, 01 Jun 2022   Prob (F-statistic):              0.810\n",
            "Time:                        13:53:30   Log-Likelihood:                 466.52\n",
            "No. Observations:                 233   AIC:                            -929.0\n",
            "Df Residuals:                     231   BIC:                            -922.1\n",
            "Df Model:                           1                                         \n",
            "Covariance Type:                  HC2                                         \n",
            "==============================================================================\n",
            "                 coef    std err          z      P>|z|      [0.025      0.975]\n",
            "------------------------------------------------------------------------------\n",
            "ic             0.0036      0.002      1.467      0.142      -0.001       0.008\n",
            "lf1jpy        -0.1528      0.634     -0.241      0.809      -1.395       1.089\n",
            "==============================================================================\n",
            "Omnibus:                        9.689   Durbin-Watson:                   1.824\n",
            "Prob(Omnibus):                  0.008   Jarque-Bera (JB):                9.685\n",
            "Skew:                           0.473   Prob(JB):                      0.00789\n",
            "Kurtosis:                       3.322   Cond. No.                         185.\n",
            "==============================================================================\n",
            "\n",
            "Warnings:\n",
            "[1] Standard Errors are heteroscedasticity robust (HC2)\n"
          ]
        }
      ]
    },
    {
      "cell_type": "code",
      "source": [
        "R = np.array([[1,0],[0,1]])\n",
        "r = np.array([0,1])"
      ],
      "metadata": {
        "id": "WRCIjc4aix_4"
      },
      "execution_count": 19,
      "outputs": []
    },
    {
      "cell_type": "code",
      "source": [
        "print(resp1.wald_test(r_matrix = (R,r), use_f = False))"
      ],
      "metadata": {
        "colab": {
          "base_uri": "https://localhost:8080/"
        },
        "id": "RT6DxKj3i3tu",
        "outputId": "a5d564a3-e7e2-4e65-8900-515b3863f1c4"
      },
      "execution_count": 21,
      "outputs": [
        {
          "output_type": "stream",
          "name": "stdout",
          "text": [
            "<Wald test (chi2): statistic=[[7.15623983]], p-value=0.027928156166202187, df_denom=2>\n"
          ]
        }
      ]
    },
    {
      "cell_type": "code",
      "source": [
        "print(resf1.wald_test(r_matrix = (R,r), use_f = False))"
      ],
      "metadata": {
        "colab": {
          "base_uri": "https://localhost:8080/"
        },
        "id": "IUUv916wi7sc",
        "outputId": "b36d9da5-e4df-426b-aee4-e6b462afa730"
      },
      "execution_count": 22,
      "outputs": [
        {
          "output_type": "stream",
          "name": "stdout",
          "text": [
            "<Wald test (chi2): statistic=[[5.52306321]], p-value=0.06319490443811177, df_denom=2>\n"
          ]
        }
      ]
    },
    {
      "cell_type": "code",
      "source": [
        "print(resj1.wald_test(r_matrix = (R,r), use_f = False))"
      ],
      "metadata": {
        "colab": {
          "base_uri": "https://localhost:8080/"
        },
        "id": "6COAP73Li_E6",
        "outputId": "f8cbcc7f-88f5-4dd8-ef94-214d4251ffbb"
      },
      "execution_count": 23,
      "outputs": [
        {
          "output_type": "stream",
          "name": "stdout",
          "text": [
            "<Wald test (chi2): statistic=[[3.82192743]], p-value=0.14793774812787716, df_denom=2>\n"
          ]
        }
      ]
    },
    {
      "cell_type": "code",
      "source": [
        "df2df = df2[['l'+x for x in ['sgbp', 'sfrf', 'sjpy']]].diff(periods = 3, axis = 0) \n",
        "df2df = df2df.drop(df2df.index[0:3]).reset_index().drop(['index'], axis = 1) \n",
        "df2df1 = pd.DataFrame()\n",
        "for x in ['f3gbp', 'f3frf', 'f3jpy']:\n",
        "    df2df1['l'+x] = df2['l'+x] - df2['ls'+x[2:]]\n",
        "df3df1 = df2df1.drop(df2df1.index[-3:]).reset_index().drop(['index'], axis = 1) \n",
        "for x in ['f3gbp', 'f3frf', 'f3jpy']:\n",
        "    df2df['l'+x] = df3df1['l'+x]\n",
        "df2df['ic'] = 1"
      ],
      "metadata": {
        "id": "uKgAjzgljD31"
      },
      "execution_count": 24,
      "outputs": []
    },
    {
      "cell_type": "code",
      "source": [
        "df2df.head()"
      ],
      "metadata": {
        "colab": {
          "base_uri": "https://localhost:8080/",
          "height": 201
        },
        "id": "T3hP9YYCjV1p",
        "outputId": "0bc9b917-bc0c-4e6c-c7df-e78d8ad5673d"
      },
      "execution_count": 27,
      "outputs": [
        {
          "output_type": "execute_result",
          "data": {
            "text/plain": [
              "      lsgbp     lsfrf     lsjpy    lf3gbp    lf3frf    lf3jpy  ic\n",
              "0  0.042316  0.089807  0.014027 -0.006949  0.003855  0.023183   1\n",
              "1  0.008130  0.102888  0.002389 -0.005239  0.002151  0.005036   1\n",
              "2 -0.045132  0.005624 -0.005028 -0.003857  0.002050  0.014415   1\n",
              "3 -0.067887 -0.023511 -0.010568 -0.004460  0.001074  0.021064   1\n",
              "4 -0.029220 -0.022951 -0.040303 -0.007478  0.004585  0.038231   1"
            ],
            "text/html": [
              "\n",
              "  <div id=\"df-1f490278-9f97-457c-a4dd-1f960e0efdb6\">\n",
              "    <div class=\"colab-df-container\">\n",
              "      <div>\n",
              "<style scoped>\n",
              "    .dataframe tbody tr th:only-of-type {\n",
              "        vertical-align: middle;\n",
              "    }\n",
              "\n",
              "    .dataframe tbody tr th {\n",
              "        vertical-align: top;\n",
              "    }\n",
              "\n",
              "    .dataframe thead th {\n",
              "        text-align: right;\n",
              "    }\n",
              "</style>\n",
              "<table border=\"1\" class=\"dataframe\">\n",
              "  <thead>\n",
              "    <tr style=\"text-align: right;\">\n",
              "      <th></th>\n",
              "      <th>lsgbp</th>\n",
              "      <th>lsfrf</th>\n",
              "      <th>lsjpy</th>\n",
              "      <th>lf3gbp</th>\n",
              "      <th>lf3frf</th>\n",
              "      <th>lf3jpy</th>\n",
              "      <th>ic</th>\n",
              "    </tr>\n",
              "  </thead>\n",
              "  <tbody>\n",
              "    <tr>\n",
              "      <th>0</th>\n",
              "      <td>0.042316</td>\n",
              "      <td>0.089807</td>\n",
              "      <td>0.014027</td>\n",
              "      <td>-0.006949</td>\n",
              "      <td>0.003855</td>\n",
              "      <td>0.023183</td>\n",
              "      <td>1</td>\n",
              "    </tr>\n",
              "    <tr>\n",
              "      <th>1</th>\n",
              "      <td>0.008130</td>\n",
              "      <td>0.102888</td>\n",
              "      <td>0.002389</td>\n",
              "      <td>-0.005239</td>\n",
              "      <td>0.002151</td>\n",
              "      <td>0.005036</td>\n",
              "      <td>1</td>\n",
              "    </tr>\n",
              "    <tr>\n",
              "      <th>2</th>\n",
              "      <td>-0.045132</td>\n",
              "      <td>0.005624</td>\n",
              "      <td>-0.005028</td>\n",
              "      <td>-0.003857</td>\n",
              "      <td>0.002050</td>\n",
              "      <td>0.014415</td>\n",
              "      <td>1</td>\n",
              "    </tr>\n",
              "    <tr>\n",
              "      <th>3</th>\n",
              "      <td>-0.067887</td>\n",
              "      <td>-0.023511</td>\n",
              "      <td>-0.010568</td>\n",
              "      <td>-0.004460</td>\n",
              "      <td>0.001074</td>\n",
              "      <td>0.021064</td>\n",
              "      <td>1</td>\n",
              "    </tr>\n",
              "    <tr>\n",
              "      <th>4</th>\n",
              "      <td>-0.029220</td>\n",
              "      <td>-0.022951</td>\n",
              "      <td>-0.040303</td>\n",
              "      <td>-0.007478</td>\n",
              "      <td>0.004585</td>\n",
              "      <td>0.038231</td>\n",
              "      <td>1</td>\n",
              "    </tr>\n",
              "  </tbody>\n",
              "</table>\n",
              "</div>\n",
              "      <button class=\"colab-df-convert\" onclick=\"convertToInteractive('df-1f490278-9f97-457c-a4dd-1f960e0efdb6')\"\n",
              "              title=\"Convert this dataframe to an interactive table.\"\n",
              "              style=\"display:none;\">\n",
              "        \n",
              "  <svg xmlns=\"http://www.w3.org/2000/svg\" height=\"24px\"viewBox=\"0 0 24 24\"\n",
              "       width=\"24px\">\n",
              "    <path d=\"M0 0h24v24H0V0z\" fill=\"none\"/>\n",
              "    <path d=\"M18.56 5.44l.94 2.06.94-2.06 2.06-.94-2.06-.94-.94-2.06-.94 2.06-2.06.94zm-11 1L8.5 8.5l.94-2.06 2.06-.94-2.06-.94L8.5 2.5l-.94 2.06-2.06.94zm10 10l.94 2.06.94-2.06 2.06-.94-2.06-.94-.94-2.06-.94 2.06-2.06.94z\"/><path d=\"M17.41 7.96l-1.37-1.37c-.4-.4-.92-.59-1.43-.59-.52 0-1.04.2-1.43.59L10.3 9.45l-7.72 7.72c-.78.78-.78 2.05 0 2.83L4 21.41c.39.39.9.59 1.41.59.51 0 1.02-.2 1.41-.59l7.78-7.78 2.81-2.81c.8-.78.8-2.07 0-2.86zM5.41 20L4 18.59l7.72-7.72 1.47 1.35L5.41 20z\"/>\n",
              "  </svg>\n",
              "      </button>\n",
              "      \n",
              "  <style>\n",
              "    .colab-df-container {\n",
              "      display:flex;\n",
              "      flex-wrap:wrap;\n",
              "      gap: 12px;\n",
              "    }\n",
              "\n",
              "    .colab-df-convert {\n",
              "      background-color: #E8F0FE;\n",
              "      border: none;\n",
              "      border-radius: 50%;\n",
              "      cursor: pointer;\n",
              "      display: none;\n",
              "      fill: #1967D2;\n",
              "      height: 32px;\n",
              "      padding: 0 0 0 0;\n",
              "      width: 32px;\n",
              "    }\n",
              "\n",
              "    .colab-df-convert:hover {\n",
              "      background-color: #E2EBFA;\n",
              "      box-shadow: 0px 1px 2px rgba(60, 64, 67, 0.3), 0px 1px 3px 1px rgba(60, 64, 67, 0.15);\n",
              "      fill: #174EA6;\n",
              "    }\n",
              "\n",
              "    [theme=dark] .colab-df-convert {\n",
              "      background-color: #3B4455;\n",
              "      fill: #D2E3FC;\n",
              "    }\n",
              "\n",
              "    [theme=dark] .colab-df-convert:hover {\n",
              "      background-color: #434B5C;\n",
              "      box-shadow: 0px 1px 3px 1px rgba(0, 0, 0, 0.15);\n",
              "      filter: drop-shadow(0px 1px 2px rgba(0, 0, 0, 0.3));\n",
              "      fill: #FFFFFF;\n",
              "    }\n",
              "  </style>\n",
              "\n",
              "      <script>\n",
              "        const buttonEl =\n",
              "          document.querySelector('#df-1f490278-9f97-457c-a4dd-1f960e0efdb6 button.colab-df-convert');\n",
              "        buttonEl.style.display =\n",
              "          google.colab.kernel.accessAllowed ? 'block' : 'none';\n",
              "\n",
              "        async function convertToInteractive(key) {\n",
              "          const element = document.querySelector('#df-1f490278-9f97-457c-a4dd-1f960e0efdb6');\n",
              "          const dataTable =\n",
              "            await google.colab.kernel.invokeFunction('convertToInteractive',\n",
              "                                                     [key], {});\n",
              "          if (!dataTable) return;\n",
              "\n",
              "          const docLinkHtml = 'Like what you see? Visit the ' +\n",
              "            '<a target=\"_blank\" href=https://colab.research.google.com/notebooks/data_table.ipynb>data table notebook</a>'\n",
              "            + ' to learn more about interactive tables.';\n",
              "          element.innerHTML = '';\n",
              "          dataTable['output_type'] = 'display_data';\n",
              "          await google.colab.output.renderOutput(dataTable, element);\n",
              "          const docLink = document.createElement('div');\n",
              "          docLink.innerHTML = docLinkHtml;\n",
              "          element.appendChild(docLink);\n",
              "        }\n",
              "      </script>\n",
              "    </div>\n",
              "  </div>\n",
              "  "
            ]
          },
          "metadata": {},
          "execution_count": 27
        }
      ]
    },
    {
      "cell_type": "code",
      "source": [
        "mdp2 = sm.OLS(df2df['lsgbp'], df2df[['ic', 'lf3gbp']])\n",
        "resp2 = mdp2.fit(cov_type = 'HC2')\n",
        "mdf2 = sm.OLS(df2df['lsfrf'], df2df[['ic', 'lf3frf']])\n",
        "resf2 = mdf2.fit(cov_type = 'HC2')\n",
        "mdj2 = sm.OLS(df2df['lsjpy'], df2df[['ic', 'lf3jpy']])\n",
        "resj2 = mdj2.fit(cov_type = 'HC2')"
      ],
      "metadata": {
        "id": "ICbz3JZwjeSc"
      },
      "execution_count": 28,
      "outputs": []
    },
    {
      "cell_type": "code",
      "source": [
        "print(resp2.summary())"
      ],
      "metadata": {
        "colab": {
          "base_uri": "https://localhost:8080/"
        },
        "id": "50WFCCv1jnck",
        "outputId": "87cb558c-1bfd-41bb-b116-8cb8ebdc96cb"
      },
      "execution_count": 36,
      "outputs": [
        {
          "output_type": "stream",
          "name": "stdout",
          "text": [
            "                            OLS Regression Results                            \n",
            "==============================================================================\n",
            "Dep. Variable:                  lsgbp   R-squared:                       0.080\n",
            "Model:                            OLS   Adj. R-squared:                  0.076\n",
            "Method:                 Least Squares   F-statistic:                     21.84\n",
            "Date:                Wed, 01 Jun 2022   Prob (F-statistic):           5.07e-06\n",
            "Time:                        14:02:29   Log-Likelihood:                 333.32\n",
            "No. Observations:                 231   AIC:                            -662.6\n",
            "Df Residuals:                     229   BIC:                            -655.8\n",
            "Df Model:                           1                                         \n",
            "Covariance Type:                  HC2                                         \n",
            "==============================================================================\n",
            "                 coef    std err          z      P>|z|      [0.025      0.975]\n",
            "------------------------------------------------------------------------------\n",
            "ic            -0.0187      0.005     -3.762      0.000      -0.028      -0.009\n",
            "lf3gbp        -2.0586      0.441     -4.673      0.000      -2.922      -1.195\n",
            "==============================================================================\n",
            "Omnibus:                        0.236   Durbin-Watson:                   0.623\n",
            "Prob(Omnibus):                  0.889   Jarque-Bera (JB):                0.126\n",
            "Skew:                           0.054   Prob(JB):                        0.939\n",
            "Kurtosis:                       3.036   Cond. No.                         122.\n",
            "==============================================================================\n",
            "\n",
            "Warnings:\n",
            "[1] Standard Errors are heteroscedasticity robust (HC2)\n"
          ]
        }
      ]
    },
    {
      "cell_type": "code",
      "source": [
        "print(resf2.summary())"
      ],
      "metadata": {
        "colab": {
          "base_uri": "https://localhost:8080/"
        },
        "id": "Rg2eDBoYjsgf",
        "outputId": "a4f91cc3-3555-4f2b-e75b-648c4add31a1"
      },
      "execution_count": 37,
      "outputs": [
        {
          "output_type": "stream",
          "name": "stdout",
          "text": [
            "                            OLS Regression Results                            \n",
            "==============================================================================\n",
            "Dep. Variable:                  lsfrf   R-squared:                       0.004\n",
            "Model:                            OLS   Adj. R-squared:                  0.000\n",
            "Method:                 Least Squares   F-statistic:                    0.7880\n",
            "Date:                Wed, 01 Jun 2022   Prob (F-statistic):              0.376\n",
            "Time:                        14:02:59   Log-Likelihood:                 323.12\n",
            "No. Observations:                 231   AIC:                            -642.2\n",
            "Df Residuals:                     229   BIC:                            -635.3\n",
            "Df Model:                           1                                         \n",
            "Covariance Type:                  HC2                                         \n",
            "==============================================================================\n",
            "                 coef    std err          z      P>|z|      [0.025      0.975]\n",
            "------------------------------------------------------------------------------\n",
            "ic            -0.0044      0.005     -0.838      0.402      -0.015       0.006\n",
            "lf3frf        -0.4804      0.541     -0.888      0.375      -1.541       0.580\n",
            "==============================================================================\n",
            "Omnibus:                        2.095   Durbin-Watson:                   0.553\n",
            "Prob(Omnibus):                  0.351   Jarque-Bera (JB):                2.153\n",
            "Skew:                          -0.199   Prob(JB):                        0.341\n",
            "Kurtosis:                       2.743   Cond. No.                         120.\n",
            "==============================================================================\n",
            "\n",
            "Warnings:\n",
            "[1] Standard Errors are heteroscedasticity robust (HC2)\n"
          ]
        }
      ]
    },
    {
      "cell_type": "code",
      "source": [
        "print(resj2.summary())"
      ],
      "metadata": {
        "colab": {
          "base_uri": "https://localhost:8080/"
        },
        "id": "s3zb32UKju7N",
        "outputId": "12992381-900d-4799-887e-08818a0462cb"
      },
      "execution_count": 38,
      "outputs": [
        {
          "output_type": "stream",
          "name": "stdout",
          "text": [
            "                            OLS Regression Results                            \n",
            "==============================================================================\n",
            "Dep. Variable:                  lsjpy   R-squared:                       0.017\n",
            "Model:                            OLS   Adj. R-squared:                  0.012\n",
            "Method:                 Least Squares   F-statistic:                     3.796\n",
            "Date:                Wed, 01 Jun 2022   Prob (F-statistic):             0.0526\n",
            "Time:                        14:03:27   Log-Likelihood:                 325.71\n",
            "No. Observations:                 231   AIC:                            -647.4\n",
            "Df Residuals:                     229   BIC:                            -640.5\n",
            "Df Model:                           1                                         \n",
            "Covariance Type:                  HC2                                         \n",
            "==============================================================================\n",
            "                 coef    std err          z      P>|z|      [0.025      0.975]\n",
            "------------------------------------------------------------------------------\n",
            "ic             0.0131      0.004      3.161      0.002       0.005       0.021\n",
            "lf3jpy        -0.6020      0.309     -1.948      0.051      -1.208       0.004\n",
            "==============================================================================\n",
            "Omnibus:                        7.899   Durbin-Watson:                   0.557\n",
            "Prob(Omnibus):                  0.019   Jarque-Bera (JB):                8.016\n",
            "Skew:                           0.456   Prob(JB):                       0.0182\n",
            "Kurtosis:                       3.029   Cond. No.                         78.1\n",
            "==============================================================================\n",
            "\n",
            "Warnings:\n",
            "[1] Standard Errors are heteroscedasticity robust (HC2)\n"
          ]
        }
      ]
    },
    {
      "cell_type": "code",
      "source": [
        "R = R.reshape(2,2)\n",
        "r = r.reshape(2,1)"
      ],
      "metadata": {
        "id": "ZkFVGKV0jwe_"
      },
      "execution_count": 32,
      "outputs": []
    },
    {
      "cell_type": "code",
      "source": [
        "np.array(resp2.params).reshape(2,1)"
      ],
      "metadata": {
        "colab": {
          "base_uri": "https://localhost:8080/"
        },
        "id": "JXThtPU4j3iB",
        "outputId": "46ec48c9-d33c-4583-c35c-920609701db0"
      },
      "execution_count": 33,
      "outputs": [
        {
          "output_type": "execute_result",
          "data": {
            "text/plain": [
              "array([[-0.01871043],\n",
              "       [-2.0586316 ]])"
            ]
          },
          "metadata": {},
          "execution_count": 33
        }
      ]
    },
    {
      "cell_type": "code",
      "source": [
        "b2p = np.array(resp2.params).reshape(2,1)\n",
        "b2f = np.array(resf2.params).reshape(2,1)\n",
        "b2j = np.array(resj2.params).reshape(2,1)\n",
        "NWvar2p = sc.cov_hac(resp2).reshape(2,2)\n",
        "NWvar2f = sc.cov_hac(resf2).reshape(2,2)\n",
        "NWvar2j = sc.cov_hac(resj2).reshape(2,2)\n",
        "NWW2p = (R@b2p-r).T@np.linalg.inv(NWvar2p)@(R@b2p-r)\n",
        "NWW2f = (R@b2f-r).T@np.linalg.inv(NWvar2f)@(R@b2f-r)\n",
        "NWW2j = (R@b2j-r).T@np.linalg.inv(NWvar2j)@(R@b2j-r)\n",
        "NWpval2p = 1 - stats.chi2.cdf(NWW2p, 2)\n",
        "NWpval2f = 1 - stats.chi2.cdf(NWW2f, 2)\n",
        "NWpval2j = 1 - stats.chi2.cdf(NWW2j, 2)\n",
        "HHvar2p = sc.cov_hac(resp2, nlags = 2, weights_func = sc.weights_uniform).reshape(2,2)\n",
        "HHvar2f = sc.cov_hac(resf2, nlags = 2, weights_func = sc.weights_uniform).reshape(2,2)\n",
        "HHvar2j = sc.cov_hac(resj2, nlags = 2, weights_func = sc.weights_uniform).reshape(2,2)\n",
        "HHW2p = (R@b2p-r).T@np.linalg.inv(HHvar2p)@(R@b2p-r)\n",
        "HHW2f = (R@b2f-r).T@np.linalg.inv(HHvar2f)@(R@b2f-r)\n",
        "HHW2j = (R@b2j-r).T@np.linalg.inv(HHvar2j)@(R@b2j-r)\n",
        "HHpval2p = 1 - stats.chi2.cdf(HHW2p, 2)\n",
        "HHpval2f = 1 - stats.chi2.cdf(HHW2f, 2)\n",
        "HHpval2j = 1 - stats.chi2.cdf(HHW2j, 2)\n",
        "print('Newey-West HAC Wald p-value for H0 for 3-per. pound is ', NWpval2p)\n",
        "print('Newey-West HAC Wald p-value for H0 for 3-per. franc is ', NWpval2f)\n",
        "print('Newey-West HAC Wald p-value for H0 for 3-per. yen is ', NWpval2j)\n",
        "print('Hansen-Hodrick HAC Wald p-value for H0 for 3-per. pound is ', HHpval2p)\n",
        "print('Hansen-Hodrick HAC Wald p-value for H0 for 3-per. franc009 is ', HHpval2f)\n",
        "print('Hansen-Hodrick HAC Wald p-value for H0 for 3-per. yen is ', HHpval2j)"
      ],
      "metadata": {
        "colab": {
          "base_uri": "https://localhost:8080/"
        },
        "id": "REMRUWWjj_WR",
        "outputId": "cb4614fd-094e-4d80-fa51-bfb00bf0bf76"
      },
      "execution_count": 35,
      "outputs": [
        {
          "output_type": "stream",
          "name": "stdout",
          "text": [
            "Newey-West HAC Wald p-value for H0 for 3-per. pound is  [[5.11342296e-05]]\n",
            "Newey-West HAC Wald p-value for H0 for 3-per. franc is  [[0.14134594]]\n",
            "Newey-West HAC Wald p-value for H0 for 3-per. yen is  [[0.00107895]]\n",
            "Hansen-Hodrick HAC Wald p-value for H0 for 3-per. pound is  [[0.00024391]]\n",
            "Hansen-Hodrick HAC Wald p-value for H0 for 3-per. franc009 is  [[0.18958511]]\n",
            "Hansen-Hodrick HAC Wald p-value for H0 for 3-per. yen is  [[0.00144919]]\n"
          ]
        }
      ]
    },
    {
      "cell_type": "markdown",
      "source": [
        "For **1-month** forward exchange rates there is no serial correlation. \\\n",
        "*For pound*: p-value = 0,028 -> H0 is rejected at 5% level. \\\n",
        "*For franc*: p-value = 0,063 -> H0 is not rejected at 5% level. \\\n",
        "*For yen*: p-value = 0,148 -> H0 is not rejected at 10% level. \\\n",
        "For **3-month** forward exchange rates there is serial correlation. Newey-West and Hansen-Hodrick are applied. \\\n",
        " *For pound*: p-value = 0,0002 -> H0 is rejected at 1% level. \\\n",
        "*For franc*: p-value = 0,189 -> H0 is not rejected at 10% level. \\\n",
        "*For yen*: p-value = 0,001 -> H0 is rejected at 1% level. \\\n",
        "Thus, current forward rates are not the best predictors of the spot rates. It works only for some currencies for different periods, i.e. it works for franc for 1&3 month periods; for yen for 1-month period; does not work for pounds. \n"
      ],
      "metadata": {
        "id": "p_9Tkv85n2SD"
      }
    }
  ]
}
