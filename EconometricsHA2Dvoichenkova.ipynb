{
  "nbformat": 4,
  "nbformat_minor": 0,
  "metadata": {
    "colab": {
      "name": "Ekm3HA2Dvoichenkova.ipynb",
      "provenance": []
    },
    "kernelspec": {
      "name": "python3",
      "display_name": "Python 3"
    },
    "language_info": {
      "name": "python"
    }
  },
  "cells": [
    {
      "cell_type": "code",
      "execution_count": 21,
      "metadata": {
        "id": "Lx_1_ZFfpNLT"
      },
      "outputs": [],
      "source": [
        "import numpy as np\n",
        "import pandas as pd\n",
        "import statsmodels.api as sm\n",
        "import scipy as sp\n",
        "from math import sqrt"
      ]
    },
    {
      "cell_type": "code",
      "source": [
        "df = pd.read_excel('Nerlove1963.xlsx')"
      ],
      "metadata": {
        "id": "W7y5W7J4wcf1"
      },
      "execution_count": 2,
      "outputs": []
    },
    {
      "cell_type": "code",
      "source": [
        "df.head()"
      ],
      "metadata": {
        "colab": {
          "base_uri": "https://localhost:8080/",
          "height": 201
        },
        "id": "0hGx4B9GwkzC",
        "outputId": "cb42f31d-02af-4196-d2fb-6ba21c00e2b4"
      },
      "execution_count": 3,
      "outputs": [
        {
          "output_type": "execute_result",
          "data": {
            "text/plain": [
              "    Cost  output  Plabor  Pcapital  Pfuel\n",
              "0  0.082       2    2.09       183   17.9\n",
              "1  0.661       3    2.05       174   35.1\n",
              "2  0.990       4    2.05       171   35.1\n",
              "3  0.315       4    1.83       166   32.2\n",
              "4  0.197       5    2.12       233   28.6"
            ],
            "text/html": [
              "\n",
              "  <div id=\"df-83ad93f1-5eb3-4f39-a2d8-0f679fd7d881\">\n",
              "    <div class=\"colab-df-container\">\n",
              "      <div>\n",
              "<style scoped>\n",
              "    .dataframe tbody tr th:only-of-type {\n",
              "        vertical-align: middle;\n",
              "    }\n",
              "\n",
              "    .dataframe tbody tr th {\n",
              "        vertical-align: top;\n",
              "    }\n",
              "\n",
              "    .dataframe thead th {\n",
              "        text-align: right;\n",
              "    }\n",
              "</style>\n",
              "<table border=\"1\" class=\"dataframe\">\n",
              "  <thead>\n",
              "    <tr style=\"text-align: right;\">\n",
              "      <th></th>\n",
              "      <th>Cost</th>\n",
              "      <th>output</th>\n",
              "      <th>Plabor</th>\n",
              "      <th>Pcapital</th>\n",
              "      <th>Pfuel</th>\n",
              "    </tr>\n",
              "  </thead>\n",
              "  <tbody>\n",
              "    <tr>\n",
              "      <th>0</th>\n",
              "      <td>0.082</td>\n",
              "      <td>2</td>\n",
              "      <td>2.09</td>\n",
              "      <td>183</td>\n",
              "      <td>17.9</td>\n",
              "    </tr>\n",
              "    <tr>\n",
              "      <th>1</th>\n",
              "      <td>0.661</td>\n",
              "      <td>3</td>\n",
              "      <td>2.05</td>\n",
              "      <td>174</td>\n",
              "      <td>35.1</td>\n",
              "    </tr>\n",
              "    <tr>\n",
              "      <th>2</th>\n",
              "      <td>0.990</td>\n",
              "      <td>4</td>\n",
              "      <td>2.05</td>\n",
              "      <td>171</td>\n",
              "      <td>35.1</td>\n",
              "    </tr>\n",
              "    <tr>\n",
              "      <th>3</th>\n",
              "      <td>0.315</td>\n",
              "      <td>4</td>\n",
              "      <td>1.83</td>\n",
              "      <td>166</td>\n",
              "      <td>32.2</td>\n",
              "    </tr>\n",
              "    <tr>\n",
              "      <th>4</th>\n",
              "      <td>0.197</td>\n",
              "      <td>5</td>\n",
              "      <td>2.12</td>\n",
              "      <td>233</td>\n",
              "      <td>28.6</td>\n",
              "    </tr>\n",
              "  </tbody>\n",
              "</table>\n",
              "</div>\n",
              "      <button class=\"colab-df-convert\" onclick=\"convertToInteractive('df-83ad93f1-5eb3-4f39-a2d8-0f679fd7d881')\"\n",
              "              title=\"Convert this dataframe to an interactive table.\"\n",
              "              style=\"display:none;\">\n",
              "        \n",
              "  <svg xmlns=\"http://www.w3.org/2000/svg\" height=\"24px\"viewBox=\"0 0 24 24\"\n",
              "       width=\"24px\">\n",
              "    <path d=\"M0 0h24v24H0V0z\" fill=\"none\"/>\n",
              "    <path d=\"M18.56 5.44l.94 2.06.94-2.06 2.06-.94-2.06-.94-.94-2.06-.94 2.06-2.06.94zm-11 1L8.5 8.5l.94-2.06 2.06-.94-2.06-.94L8.5 2.5l-.94 2.06-2.06.94zm10 10l.94 2.06.94-2.06 2.06-.94-2.06-.94-.94-2.06-.94 2.06-2.06.94z\"/><path d=\"M17.41 7.96l-1.37-1.37c-.4-.4-.92-.59-1.43-.59-.52 0-1.04.2-1.43.59L10.3 9.45l-7.72 7.72c-.78.78-.78 2.05 0 2.83L4 21.41c.39.39.9.59 1.41.59.51 0 1.02-.2 1.41-.59l7.78-7.78 2.81-2.81c.8-.78.8-2.07 0-2.86zM5.41 20L4 18.59l7.72-7.72 1.47 1.35L5.41 20z\"/>\n",
              "  </svg>\n",
              "      </button>\n",
              "      \n",
              "  <style>\n",
              "    .colab-df-container {\n",
              "      display:flex;\n",
              "      flex-wrap:wrap;\n",
              "      gap: 12px;\n",
              "    }\n",
              "\n",
              "    .colab-df-convert {\n",
              "      background-color: #E8F0FE;\n",
              "      border: none;\n",
              "      border-radius: 50%;\n",
              "      cursor: pointer;\n",
              "      display: none;\n",
              "      fill: #1967D2;\n",
              "      height: 32px;\n",
              "      padding: 0 0 0 0;\n",
              "      width: 32px;\n",
              "    }\n",
              "\n",
              "    .colab-df-convert:hover {\n",
              "      background-color: #E2EBFA;\n",
              "      box-shadow: 0px 1px 2px rgba(60, 64, 67, 0.3), 0px 1px 3px 1px rgba(60, 64, 67, 0.15);\n",
              "      fill: #174EA6;\n",
              "    }\n",
              "\n",
              "    [theme=dark] .colab-df-convert {\n",
              "      background-color: #3B4455;\n",
              "      fill: #D2E3FC;\n",
              "    }\n",
              "\n",
              "    [theme=dark] .colab-df-convert:hover {\n",
              "      background-color: #434B5C;\n",
              "      box-shadow: 0px 1px 3px 1px rgba(0, 0, 0, 0.15);\n",
              "      filter: drop-shadow(0px 1px 2px rgba(0, 0, 0, 0.3));\n",
              "      fill: #FFFFFF;\n",
              "    }\n",
              "  </style>\n",
              "\n",
              "      <script>\n",
              "        const buttonEl =\n",
              "          document.querySelector('#df-83ad93f1-5eb3-4f39-a2d8-0f679fd7d881 button.colab-df-convert');\n",
              "        buttonEl.style.display =\n",
              "          google.colab.kernel.accessAllowed ? 'block' : 'none';\n",
              "\n",
              "        async function convertToInteractive(key) {\n",
              "          const element = document.querySelector('#df-83ad93f1-5eb3-4f39-a2d8-0f679fd7d881');\n",
              "          const dataTable =\n",
              "            await google.colab.kernel.invokeFunction('convertToInteractive',\n",
              "                                                     [key], {});\n",
              "          if (!dataTable) return;\n",
              "\n",
              "          const docLinkHtml = 'Like what you see? Visit the ' +\n",
              "            '<a target=\"_blank\" href=https://colab.research.google.com/notebooks/data_table.ipynb>data table notebook</a>'\n",
              "            + ' to learn more about interactive tables.';\n",
              "          element.innerHTML = '';\n",
              "          dataTable['output_type'] = 'display_data';\n",
              "          await google.colab.output.renderOutput(dataTable, element);\n",
              "          const docLink = document.createElement('div');\n",
              "          docLink.innerHTML = docLinkHtml;\n",
              "          element.appendChild(docLink);\n",
              "        }\n",
              "      </script>\n",
              "    </div>\n",
              "  </div>\n",
              "  "
            ]
          },
          "metadata": {},
          "execution_count": 3
        }
      ]
    },
    {
      "cell_type": "code",
      "source": [
        "#take logs to estimate Cobb-Douglas\n",
        "df['ln_cost'] = np.log(df['Cost'])\n",
        "df['ln_output'] = np.log(df['output'])\n",
        "df['ln_plabor'] = np.log(df['Plabor'])\n",
        "df['ln_pcapital'] = np.log(df['Pcapital'])\n",
        "df['ln_pfuel'] = np.log(df['Pfuel'])\n",
        "df['intercept'] = 1"
      ],
      "metadata": {
        "id": "O1h1nZyhw1cL"
      },
      "execution_count": 9,
      "outputs": []
    },
    {
      "cell_type": "code",
      "source": [
        "model = sm.OLS(df['ln_cost'], df[['ln_output', 'ln_plabor', 'ln_pcapital', 'ln_pfuel', 'intercept']])"
      ],
      "metadata": {
        "id": "Ju0j60MwzXNI"
      },
      "execution_count": 10,
      "outputs": []
    },
    {
      "cell_type": "code",
      "source": [
        "res = model.fit()\n",
        "print(res.summary())"
      ],
      "metadata": {
        "colab": {
          "base_uri": "https://localhost:8080/"
        },
        "id": "nC_j35PSzwVj",
        "outputId": "2817c0ec-34b1-411e-ec59-a91977aad363"
      },
      "execution_count": 11,
      "outputs": [
        {
          "output_type": "stream",
          "name": "stdout",
          "text": [
            "                            OLS Regression Results                            \n",
            "==============================================================================\n",
            "Dep. Variable:                ln_cost   R-squared:                       0.926\n",
            "Model:                            OLS   Adj. R-squared:                  0.924\n",
            "Method:                 Least Squares   F-statistic:                     437.7\n",
            "Date:                Tue, 24 May 2022   Prob (F-statistic):           4.82e-78\n",
            "Time:                        11:24:43   Log-Likelihood:                -67.542\n",
            "No. Observations:                 145   AIC:                             145.1\n",
            "Df Residuals:                     140   BIC:                             160.0\n",
            "Df Model:                           4                                         \n",
            "Covariance Type:            nonrobust                                         \n",
            "===============================================================================\n",
            "                  coef    std err          t      P>|t|      [0.025      0.975]\n",
            "-------------------------------------------------------------------------------\n",
            "ln_output       0.7204      0.017     41.244      0.000       0.686       0.755\n",
            "ln_plabor       0.4363      0.291      1.499      0.136      -0.139       1.012\n",
            "ln_pcapital    -0.2199      0.339     -0.648      0.518      -0.891       0.451\n",
            "ln_pfuel        0.4265      0.100      4.249      0.000       0.228       0.625\n",
            "intercept      -3.5265      1.774     -1.987      0.049      -7.035      -0.018\n",
            "==============================================================================\n",
            "Omnibus:                       51.403   Durbin-Watson:                   1.013\n",
            "Prob(Omnibus):                  0.000   Jarque-Bera (JB):              175.700\n",
            "Skew:                           1.303   Prob(JB):                     7.03e-39\n",
            "Kurtosis:                       7.721   Cond. No.                         506.\n",
            "==============================================================================\n",
            "\n",
            "Warnings:\n",
            "[1] Standard Errors assume that the covariance matrix of the errors is correctly specified.\n"
          ]
        }
      ]
    },
    {
      "cell_type": "code",
      "source": [
        "#adding restriction\n",
        "df['ln_pcap_plab'] = df['ln_pcapital'] - df['ln_plabor']\n",
        "df['ln_pfuel_plab'] = df['ln_pfuel'] - df['ln_plabor']"
      ],
      "metadata": {
        "id": "aAeEYJBr0ASh"
      },
      "execution_count": 12,
      "outputs": []
    },
    {
      "cell_type": "code",
      "source": [
        "model2 = sm.OLS(df['ln_cost'], df[['ln_output', 'ln_plabor', 'ln_pcap_plab', 'ln_pfuel_plab', 'intercept']])"
      ],
      "metadata": {
        "id": "nSvOYFfd0154"
      },
      "execution_count": 13,
      "outputs": []
    },
    {
      "cell_type": "code",
      "source": [
        "res2 = model2.fit()\n",
        "print(res2.summary())"
      ],
      "metadata": {
        "colab": {
          "base_uri": "https://localhost:8080/"
        },
        "id": "_qCi5VkM1DvN",
        "outputId": "a896b651-5d23-4345-a33a-b8caa4d37d2d"
      },
      "execution_count": 14,
      "outputs": [
        {
          "output_type": "stream",
          "name": "stdout",
          "text": [
            "                            OLS Regression Results                            \n",
            "==============================================================================\n",
            "Dep. Variable:                ln_cost   R-squared:                       0.926\n",
            "Model:                            OLS   Adj. R-squared:                  0.924\n",
            "Method:                 Least Squares   F-statistic:                     437.7\n",
            "Date:                Tue, 24 May 2022   Prob (F-statistic):           4.82e-78\n",
            "Time:                        11:31:27   Log-Likelihood:                -67.542\n",
            "No. Observations:                 145   AIC:                             145.1\n",
            "Df Residuals:                     140   BIC:                             160.0\n",
            "Df Model:                           4                                         \n",
            "Covariance Type:            nonrobust                                         \n",
            "=================================================================================\n",
            "                    coef    std err          t      P>|t|      [0.025      0.975]\n",
            "---------------------------------------------------------------------------------\n",
            "ln_output         0.7204      0.017     41.244      0.000       0.686       0.755\n",
            "ln_plabor         0.6430      0.471      1.364      0.175      -0.289       1.575\n",
            "ln_pcap_plab     -0.2199      0.339     -0.648      0.518      -0.891       0.451\n",
            "ln_pfuel_plab     0.4265      0.100      4.249      0.000       0.228       0.625\n",
            "intercept        -3.5265      1.774     -1.987      0.049      -7.035      -0.018\n",
            "==============================================================================\n",
            "Omnibus:                       51.403   Durbin-Watson:                   1.013\n",
            "Prob(Omnibus):                  0.000   Jarque-Bera (JB):              175.700\n",
            "Skew:                           1.303   Prob(JB):                     7.03e-39\n",
            "Kurtosis:                       7.721   Cond. No.                         486.\n",
            "==============================================================================\n",
            "\n",
            "Warnings:\n",
            "[1] Standard Errors assume that the covariance matrix of the errors is correctly specified.\n"
          ]
        }
      ]
    },
    {
      "cell_type": "code",
      "source": [
        "#t-stat\n",
        "print(sp.stats.t.ppf(0.05, 140))"
      ],
      "metadata": {
        "colab": {
          "base_uri": "https://localhost:8080/"
        },
        "id": "T8p2GfZR1osS",
        "outputId": "27754dd0-63af-463d-9f54-2b604c054fa1"
      },
      "execution_count": 15,
      "outputs": [
        {
          "output_type": "stream",
          "name": "stdout",
          "text": [
            "-1.6558105109932533\n"
          ]
        }
      ]
    },
    {
      "cell_type": "code",
      "source": [
        "print(1 - sp.stats.t.sf(-0.758, 140))"
      ],
      "metadata": {
        "colab": {
          "base_uri": "https://localhost:8080/"
        },
        "id": "3_veaI_M1uZv",
        "outputId": "fea0df37-07b7-4df2-9502-3822cfe6fe21"
      },
      "execution_count": 16,
      "outputs": [
        {
          "output_type": "stream",
          "name": "stdout",
          "text": [
            "0.2248625202283664\n"
          ]
        }
      ]
    },
    {
      "cell_type": "code",
      "source": [
        "n = 145\n",
        "k=5\n",
        "x = df[['ln_output', 'ln_plabor', 'ln_pcapital', 'ln_pfuel', 'intercept']].to_numpy()\n",
        "y = df[['ln_cost']].to_numpy()\n",
        "beta = (np.linalg.inv((x.T)@x)@(x.T)@y).reshape(k,)\n",
        "qxx = ((x.T)@x)*(1/n)\n",
        "eh = (y - x@(beta.reshape(k,1))).reshape(n,)\n",
        "xxe = x*(eh.reshape(n,1))\n",
        "vxe = (xxe.T@xxe)*(1/n)\n",
        "vbeta = (np.linalg.inv(qxx))@vxe@(np.linalg.inv(qxx))/n\n",
        "R = np.array([0,1,1,1,0]).reshape(1,k)\n",
        "W = (beta[1] + beta[2] + beta[3] - 1)*(beta[1] + beta[2] + beta[3] - 1)*n/((np.linalg.inv(R@vbeta@R.T)).item())"
      ],
      "metadata": {
        "id": "nr9FoRES2kmS"
      },
      "execution_count": 17,
      "outputs": []
    },
    {
      "cell_type": "code",
      "source": [
        "#Wald\n",
        "W"
      ],
      "metadata": {
        "colab": {
          "base_uri": "https://localhost:8080/"
        },
        "id": "thVw90Al3eVb",
        "outputId": "de73edbc-bbf2-4fd3-d551-d3120ced7d93"
      },
      "execution_count": 18,
      "outputs": [
        {
          "output_type": "execute_result",
          "data": {
            "text/plain": [
              "3.52427091201883"
            ]
          },
          "metadata": {},
          "execution_count": 18
        }
      ]
    },
    {
      "cell_type": "code",
      "source": [
        "print(sp.stats.chi2.ppf(0.95, 1))"
      ],
      "metadata": {
        "colab": {
          "base_uri": "https://localhost:8080/"
        },
        "id": "_XtbkQeK3xlK",
        "outputId": "85d92f5b-ec42-47fa-e319-5154ca3b07bc"
      },
      "execution_count": 19,
      "outputs": [
        {
          "output_type": "stream",
          "name": "stdout",
          "text": [
            "3.841458820694124\n"
          ]
        }
      ]
    },
    {
      "cell_type": "code",
      "source": [
        "print(sp.stats.chi2.sf(3.52427, 1))"
      ],
      "metadata": {
        "colab": {
          "base_uri": "https://localhost:8080/"
        },
        "id": "AGgqrDO-30XF",
        "outputId": "aad57a86-10f0-4c77-c5c4-29aa07969f5a"
      },
      "execution_count": 20,
      "outputs": [
        {
          "output_type": "stream",
          "name": "stdout",
          "text": [
            "0.060476451567195985\n"
          ]
        }
      ]
    },
    {
      "cell_type": "code",
      "source": [
        "n = 145\n",
        "k=5\n",
        "x = df[['ln_output', 'ln_plabor', 'ln_pcap_plab', 'ln_pfuel_plab', 'intercept']].to_numpy() \n",
        "y = df[['ln_cost']].to_numpy()\n",
        "beta = (np.linalg.inv((x.T)@x)@(x.T)@y).reshape(k,)\n",
        "qxx = ((x.T)@x)*(1/n)\n",
        "eh = (y - x@(beta.reshape(k,1))).reshape(n,)\n",
        "xxe = x*(eh.reshape(n,1))\n",
        "vxe = (xxe.T@xxe)*(1/n)\n",
        "vbeta = (np.linalg.inv(qxx))@vxe@(np.linalg.inv(qxx))/n\n",
        "T = (beta[1] - 1)/sqrt(vbeta[1,1])"
      ],
      "metadata": {
        "id": "m_GVWq_i34KT"
      },
      "execution_count": 22,
      "outputs": []
    },
    {
      "cell_type": "code",
      "source": [
        "T"
      ],
      "metadata": {
        "colab": {
          "base_uri": "https://localhost:8080/"
        },
        "id": "bBkcGxaZ4dpr",
        "outputId": "b1f43e4e-1411-42cb-8595-efdea4acaafc"
      },
      "execution_count": 23,
      "outputs": [
        {
          "output_type": "execute_result",
          "data": {
            "text/plain": [
              "-0.8176345924152044"
            ]
          },
          "metadata": {},
          "execution_count": 23
        }
      ]
    },
    {
      "cell_type": "code",
      "source": [
        "print(1 - sp.stats.t.sf(-0.81763459, 140))"
      ],
      "metadata": {
        "colab": {
          "base_uri": "https://localhost:8080/"
        },
        "id": "BYV1k7hu4xTl",
        "outputId": "07fd40c2-0a8e-4c1e-f5ef-dc68ee29cd74"
      },
      "execution_count": 24,
      "outputs": [
        {
          "output_type": "stream",
          "name": "stdout",
          "text": [
            "0.20747760625723943\n"
          ]
        }
      ]
    },
    {
      "cell_type": "markdown",
      "source": [
        "**Comments** \\\n",
        "Economically, the restriction on betas means that the cost function exhibits constant return to scale wrt to cost of capital, labor, fuel. Equivalently, it means that the function is homogeneous of degree 1 in prices. At the same time, it should be taken into account that this restriction does not imply that prodiction function exhibits constant return to scale, since, according to theory, cost function has its price coefficients summed up to 1 even if Cobb-Douglas production function is not CRS. \\\n",
        "*As for the tests*. Left-sided test: t=-0,8176>-1,656. Hence, $H_0$ is not rejected at 5% level against $H_1$. \n",
        "Two-sided test: $W$ = 3,53 > $X^{1}_{0,95}$ = 3,84. $H_0$ is not rejected at 5% level. \\\n",
        "*p-value*: in the first case the p-value = 0,225. It indicates whether $H_0$ : $\\beta_3 + \\beta_4 + \\beta_5 <1$ can not be rejected. \n",
        "In the second case, p-value is 0,06. It indicates whether $H_0$ : $\\beta_3 + \\beta_4 + \\beta_5 =1$ can not be rejected. Hence, due to the construction and logic, they are responsible for different $H_1$. The distribution of Wald statistic is symmetric and not one-sided. t-test is not symmetric, it can be either 1-sided or 2-sided, we can choose the side we want or even both. "
      ],
      "metadata": {
        "id": "nlgDhZTz5dCc"
      }
    }
  ]
}
