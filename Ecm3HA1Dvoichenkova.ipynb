{
  "nbformat": 4,
  "nbformat_minor": 0,
  "metadata": {
    "colab": {
      "name": "Ecm3HA1Dvoichenkova.ipynb",
      "provenance": []
    },
    "kernelspec": {
      "name": "python3",
      "display_name": "Python 3"
    },
    "language_info": {
      "name": "python"
    }
  },
  "cells": [
    {
      "cell_type": "code",
      "execution_count": null,
      "metadata": {
        "id": "oBMsLO__KSug"
      },
      "outputs": [],
      "source": [
        "#generate a sample. Calculate theta and t_2 for this sample. Repeat this R = 10; 000 times. \n"
      ]
    },
    {
      "cell_type": "code",
      "source": [
        "import numpy as np \n",
        "import statsmodels.api as sm \n",
        "import random\n",
        "import matplotlib.pyplot  as plt\n",
        "import pandas as pd\n"
      ],
      "metadata": {
        "colab": {
          "base_uri": "https://localhost:8080/"
        },
        "id": "PxcSkPlRK2fO",
        "outputId": "f1048782-6e25-4f69-e306-516eee03c9da"
      },
      "execution_count": 1,
      "outputs": [
        {
          "output_type": "stream",
          "name": "stderr",
          "text": [
            "/usr/local/lib/python3.7/dist-packages/statsmodels/tools/_testing.py:19: FutureWarning: pandas.util.testing is deprecated. Use the functions in the public API at pandas.testing instead.\n",
            "  import pandas.util.testing as tm\n"
          ]
        }
      ]
    },
    {
      "cell_type": "code",
      "source": [
        "def simulate_theta(n,R):\n",
        "  #1\n",
        "#def function that calculates theta and t_2 \n",
        "\n",
        "\n",
        "  def one_iteration(n):\n",
        "    #calculate x, e\n",
        "    mean = [0, 0]\n",
        "    cov = [[1, 0], [0, 1]]\n",
        "    x = np.array(np.random.multivariate_normal(mean, cov, n))\n",
        "    e = np.array(np.random.normal(0,np.sqrt(3),n))\n",
        "    b = np.array([1,0.5])\n",
        "    y=np.matmul(x,b)+e\n",
        "\n",
        "    theta = b[0]/b[1]\n",
        "    # calculate theta\n",
        "    beta_hat = sm.OLS(y,x).fit().params\n",
        "    theta_hat = beta_hat[0]/beta_hat[1]\n",
        "\n",
        "    # calculate t_2\n",
        "    Q_xx = np.matmul(x.T,x)/n\n",
        "\n",
        "    Q_xx = Q_xx.sum(axis=1).sum(axis = 0)\n",
        "\n",
        "    e_hat = y-np.matmul(x,beta_hat)\n",
        "    xe_hat=np.matmul(x.T,np.diag(e_hat))\n",
        "\n",
        "    V_xe = np.matmul(xe_hat,xe_hat.T)/n\n",
        "    V_xe = V_xe.sum(axis=1).sum(axis = 0)\n",
        "    bb = (1/beta_hat[1] - beta_hat[0]/(beta_hat[1]**2))**2\n",
        "\n",
        "\n",
        "    t_theta = np.sqrt(n)*(theta_hat - theta)/np.sqrt(bb*(Q_xx**2)*V_xe)\n",
        "    return(theta_hat, t_theta)\n",
        "\n",
        "\n",
        "\n",
        "  #Repeat R=10000 times\n",
        "\n",
        " \n",
        "  theta_total = [1]*R\n",
        "  all_t = [1]*R\n",
        "\n",
        "  for i in range(R):\n",
        "    theta_total[i], all_t[i] = one_iteration(n)\n",
        "\n",
        "  return(theta_total, all_t)"
      ],
      "metadata": {
        "id": "uYtrNgY4N50P"
      },
      "execution_count": 15,
      "outputs": []
    },
    {
      "cell_type": "code",
      "source": [
        "theta_total, all_t = simulate_theta(4,10000)"
      ],
      "metadata": {
        "id": "Lv7LGkNRN7Lp"
      },
      "execution_count": 16,
      "outputs": []
    },
    {
      "cell_type": "code",
      "source": [
        "#2\n",
        "#plot \n",
        "plt.hist(theta_total)\n",
        "print(np.mean(theta_total), np.std(theta_total))"
      ],
      "metadata": {
        "colab": {
          "base_uri": "https://localhost:8080/",
          "height": 283
        },
        "id": "DOzX2R_4OjR4",
        "outputId": "e4dd1377-14e9-405b-8aaa-92f20143ce62"
      },
      "execution_count": 17,
      "outputs": [
        {
          "output_type": "stream",
          "name": "stdout",
          "text": [
            "-0.3413217740044767 56.848277423703045\n"
          ]
        },
        {
          "output_type": "display_data",
          "data": {
            "text/plain": [
              "<Figure size 432x288 with 1 Axes>"
            ],
            "image/png": "[encoded data removed]"
          },
          "metadata": {
            "needs_background": "light"
          }
        }
      ]
    },
    {
      "cell_type": "code",
      "source": [
        "plt.hist(all_t)\n",
        "print(np.mean(all_t), np.std(all_t))"
      ],
      "metadata": {
        "colab": {
          "base_uri": "https://localhost:8080/",
          "height": 281
        },
        "id": "QUc7ASj5O4wi",
        "outputId": "a0bec148-baa9-4436-90a8-f45edf789b3d"
      },
      "execution_count": 18,
      "outputs": [
        {
          "output_type": "stream",
          "name": "stdout",
          "text": [
            "-287.1116846531011 9091.195531198387\n"
          ]
        },
        {
          "output_type": "display_data",
          "data": {
            "text/plain": [
              "<Figure size 432x288 with 1 Axes>"
            ],
            "image/png": "[encoded data removed]"
          },
          "metadata": {
            "needs_background": "light"
          }
        }
      ]
    },
    {
      "cell_type": "markdown",
      "source": [
        "In general both distributions have very unusual variance.The asymptotic distribution does not match the simulated exact distribution well. Possible reasons for this are small size and nonlinear association with theta and t_2. "
      ],
      "metadata": {
        "id": "SZ4YT7LgPA3k"
      }
    },
    {
      "cell_type": "code",
      "source": [
        "#3\n",
        "#Repeat with n=20\n",
        "theta_total20, all_t20 = simulate_theta(20,10000)"
      ],
      "metadata": {
        "id": "K20aHqdoO_-Q"
      },
      "execution_count": 19,
      "outputs": []
    },
    {
      "cell_type": "code",
      "source": [
        "plt.hist(theta_total20)\n",
        "print(np.mean(theta_total20), np.std(theta_total20))"
      ],
      "metadata": {
        "colab": {
          "base_uri": "https://localhost:8080/",
          "height": 281
        },
        "id": "ZkYnUNY6Pvts",
        "outputId": "7690618b-0380-46e6-c27d-799ea13019d0"
      },
      "execution_count": 21,
      "outputs": [
        {
          "output_type": "stream",
          "name": "stdout",
          "text": [
            "-38.9732707891582 4063.834559469763\n"
          ]
        },
        {
          "output_type": "display_data",
          "data": {
            "text/plain": [
              "<Figure size 432x288 with 1 Axes>"
            ],
            "image/png": "[encoded data removed]"
          },
          "metadata": {
            "needs_background": "light"
          }
        }
      ]
    },
    {
      "cell_type": "code",
      "source": [
        "plt.hist(all_t20)\n",
        "print(np.mean(all_t20), np.std(all_t20))"
      ],
      "metadata": {
        "colab": {
          "base_uri": "https://localhost:8080/",
          "height": 281
        },
        "id": "1BFE74VkP-PH",
        "outputId": "105de2a4-5c48-464f-9cdd-36970808e241"
      },
      "execution_count": 22,
      "outputs": [
        {
          "output_type": "stream",
          "name": "stdout",
          "text": [
            "-20.929767954046646 1060.8304382126673\n"
          ]
        },
        {
          "output_type": "display_data",
          "data": {
            "text/plain": [
              "<Figure size 432x288 with 1 Axes>"
            ],
            "image/png": "[encoded data removed]"
          },
          "metadata": {
            "needs_background": "light"
          }
        }
      ]
    },
    {
      "cell_type": "code",
      "source": [
        "#Let us compare\n",
        "d2 = np.array(theta_total20)\n",
        "d2 = d2[d2>-5]\n",
        "d2 = d2[d2<5]\n",
        "plt.hist(d2)\n",
        "\n",
        "d1 = np.array(theta_total)\n",
        "d1 = d1[d1>-5]\n",
        "d1 = d1[d1<5]\n",
        "plt.hist(d1)"
      ],
      "metadata": {
        "colab": {
          "base_uri": "https://localhost:8080/",
          "height": 363
        },
        "id": "DRsXWWZSQTpe",
        "outputId": "76bd01f8-7aa9-4c55-e6d1-10be717cd27d"
      },
      "execution_count": 23,
      "outputs": [
        {
          "output_type": "execute_result",
          "data": {
            "text/plain": [
              "(array([ 153.,  252.,  384.,  738., 1542., 2561., 1471.,  737.,  368.,\n",
              "         240.]),\n",
              " array([-4.99052896e+00, -3.99183540e+00, -2.99314185e+00, -1.99444829e+00,\n",
              "        -9.95754728e-01,  2.93883018e-03,  1.00163239e+00,  2.00032595e+00,\n",
              "         2.99901951e+00,  3.99771306e+00,  4.99640662e+00]),\n",
              " <a list of 10 Patch objects>)"
            ]
          },
          "metadata": {},
          "execution_count": 23
        },
        {
          "output_type": "display_data",
          "data": {
            "text/plain": [
              "<Figure size 432x288 with 1 Axes>"
            ],
            "image/png": "[encoded data removed]"
          },
          "metadata": {
            "needs_background": "light"
          }
        }
      ]
    },
    {
      "cell_type": "code",
      "source": [
        "#Compare t_2\n",
        "dt2 = np.array(all_t20)\n",
        "dt2 = dt2[dt2>-5]\n",
        "dt2 = dt2[dt2<5]\n",
        "plt.hist(dt2)\n",
        "\n",
        "# Let's zoom in the t estimate\n",
        "dt1 = np.array(all_t)\n",
        "dt1 = dt1[dt1>-5]\n",
        "dt1 = dt1[dt1<5]\n",
        "plt.hist(dt1)"
      ],
      "metadata": {
        "colab": {
          "base_uri": "https://localhost:8080/",
          "height": 363
        },
        "id": "dglMiYAAQ-xC",
        "outputId": "2fd2b948-2be5-4d9f-dfbd-baa342c5b4ae"
      },
      "execution_count": 24,
      "outputs": [
        {
          "output_type": "execute_result",
          "data": {
            "text/plain": [
              "(array([ 299.,  419.,  599.,  978., 2278., 1881.,  197.,   96.,   45.,\n",
              "          30.]),\n",
              " array([-4.99543919, -4.00156346, -3.00768773, -2.013812  , -1.01993627,\n",
              "        -0.02606054,  0.96781519,  1.96169093,  2.95556666,  3.94944239,\n",
              "         4.94331812]),\n",
              " <a list of 10 Patch objects>)"
            ]
          },
          "metadata": {},
          "execution_count": 24
        },
        {
          "output_type": "display_data",
          "data": {
            "text/plain": [
              "<Figure size 432x288 with 1 Axes>"
            ],
            "image/png": "[encoded data removed]"
          },
          "metadata": {
            "needs_background": "light"
          }
        }
      ]
    },
    {
      "cell_type": "markdown",
      "source": [
        "It can be seen that increasing the size of the sample increases the quality. However, it is obvious that n=20 is still not enough and n should be increased further. "
      ],
      "metadata": {
        "id": "fx9Y7HIQRanp"
      }
    },
    {
      "cell_type": "markdown",
      "source": [
        "4.\n",
        "*The quality of asymptotic approximation depends only on the degree of nonlinearity of the transformation used in the Delta method.*\\\n",
        "It is not true, not only. It was shown above that the quality depends on the sample size as well. In addition, the asymptotic approximation is poorer for t_2 than that for theta. Increasing sample size in each iteration helps to increase the quality of approximation. "
      ],
      "metadata": {
        "id": "S8ULj7oZSAj8"
      }
    }
  ]
}