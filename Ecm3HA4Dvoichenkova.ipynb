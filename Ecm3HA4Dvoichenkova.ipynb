{
  "nbformat": 4,
  "nbformat_minor": 0,
  "metadata": {
    "colab": {
      "name": "Ecm3HA4Dvoichenkova.ipynb",
      "provenance": []
    },
    "kernelspec": {
      "name": "python3",
      "display_name": "Python 3"
    },
    "language_info": {
      "name": "python"
    }
  },
  "cells": [
    {
      "cell_type": "code",
      "execution_count": 2,
      "metadata": {
        "colab": {
          "base_uri": "https://localhost:8080/"
        },
        "id": "Fyp6ceMs_k-b",
        "outputId": "9e1e0ce1-5cba-42e9-8765-38715d7a7eb6"
      },
      "outputs": [
        {
          "output_type": "stream",
          "name": "stderr",
          "text": [
            "/usr/local/lib/python3.7/dist-packages/statsmodels/tools/_testing.py:19: FutureWarning: pandas.util.testing is deprecated. Use the functions in the public API at pandas.testing instead.\n",
            "  import pandas.util.testing as tm\n"
          ]
        }
      ],
      "source": [
        "import numpy as np\n",
        "import pandas as pd\n",
        "import statsmodels.api as sm \n",
        "import scipy as sp\n",
        "from math import sqrt"
      ]
    },
    {
      "cell_type": "code",
      "source": [
        "df = pd.read_excel('Nerlove1963.xlsx')\n",
        "df['lnc'] = np.log(df['Cost'])\n",
        "df['lnq'] = np.log(df['output'])\n",
        "df['lnpl'] = np.log(df['Plabor'])\n",
        "df['lnpk'] = np.log(df['Pcapital'])\n",
        "df['lnpf'] = np.log(df['Pfuel'])\n",
        "df['lnplkf'] = df['lnpl'] + df['lnpk'] + df['lnpf']\n",
        "df['ic'] = 1"
      ],
      "metadata": {
        "id": "D5Q2vH6A_qoB"
      },
      "execution_count": 3,
      "outputs": []
    },
    {
      "cell_type": "code",
      "source": [
        "srtd_lnq = np.sort(df['lnq'])\n",
        "gamma_l = srtd_lnq[15]\n",
        "gamma_u = srtd_lnq[130]\n",
        "print('Appropriate range for gamma: [', gamma_l, ', ', gamma_u, ']')"
      ],
      "metadata": {
        "colab": {
          "base_uri": "https://localhost:8080/"
        },
        "id": "G1VayF7qBCSP",
        "outputId": "3abb91d0-d3f2-4ab9-dbd0-7468aecc8123"
      },
      "execution_count": 4,
      "outputs": [
        {
          "output_type": "stream",
          "name": "stdout",
          "text": [
            "Appropriate range for gamma: [ 4.143134726391533 ,  8.66888370465667 ]\n"
          ]
        }
      ]
    },
    {
      "cell_type": "code",
      "source": [
        "grid = np.linspace(gamma_l, gamma_u, num = 10000)"
      ],
      "metadata": {
        "id": "Zv2gQXn1BK5k"
      },
      "execution_count": 5,
      "outputs": []
    },
    {
      "cell_type": "code",
      "source": [
        "def itr(k):\n",
        "  tmp = df[['lnc', 'ic', 'lnq', 'lnplkf']].copy() \n",
        "  tmp['gq'] = df['lnq']/(1+np.exp(-df['lnq']+grid[k])) \n",
        "  return tmp"
      ],
      "metadata": {
        "id": "a8nMsKY2BOxb"
      },
      "execution_count": 7,
      "outputs": []
    },
    {
      "cell_type": "code",
      "source": [
        "searr = np.array([]) \n",
        "for i in range(10000):\n",
        "    itri = itr(i)\n",
        "    mdi = sm.OLS(itri['lnc'], itri[['ic', 'lnq', 'lnplkf', 'gq']])\n",
        "    resi = mdi.fit(cov_type = 'HC2')\n",
        "    searr = np.append(searr, resi.ssr/145)\n",
        "gse = searr.min()\n",
        "gammah = grid[searr.argmin()]\n",
        "print(searr.argmin())\n",
        "print('Gamma_hat is', gammah)"
      ],
      "metadata": {
        "colab": {
          "base_uri": "https://localhost:8080/"
        },
        "id": "3czBCZ7TBbvJ",
        "outputId": "1fc20f88-25ee-49eb-c101-4006c870af64"
      },
      "execution_count": 9,
      "outputs": [
        {
          "output_type": "stream",
          "name": "stdout",
          "text": [
            "6036\n",
            "Gamma_hat is 6.875150011200851\n"
          ]
        }
      ]
    },
    {
      "cell_type": "code",
      "source": [
        "itr = itr(6036)\n",
        "md = sm.OLS(itr['lnc'], itr[['ic', 'lnq', 'lnplkf', 'gq']])\n",
        "res = md.fit(cov_type = 'HC2')\n",
        "rsd = res.resid\n",
        "print(res.summary())"
      ],
      "metadata": {
        "colab": {
          "base_uri": "https://localhost:8080/"
        },
        "id": "LjlLkhvkBiqK",
        "outputId": "03a1a082-c0fd-4925-8bdc-9aa221666aa7"
      },
      "execution_count": 10,
      "outputs": [
        {
          "output_type": "stream",
          "name": "stdout",
          "text": [
            "                            OLS Regression Results                            \n",
            "==============================================================================\n",
            "Dep. Variable:                    lnc   R-squared:                       0.951\n",
            "Model:                            OLS   Adj. R-squared:                  0.950\n",
            "Method:                 Least Squares   F-statistic:                     781.5\n",
            "Date:                Wed, 08 Jun 2022   Prob (F-statistic):           1.29e-87\n",
            "Time:                        15:57:21   Log-Likelihood:                -37.660\n",
            "No. Observations:                 145   AIC:                             83.32\n",
            "Df Residuals:                     141   BIC:                             95.23\n",
            "Df Model:                           3                                         \n",
            "Covariance Type:                  HC2                                         \n",
            "==============================================================================\n",
            "                 coef    std err          z      P>|z|      [0.025      0.975]\n",
            "------------------------------------------------------------------------------\n",
            "ic            -5.3211      0.513    -10.379      0.000      -6.326      -4.316\n",
            "lnq            0.4378      0.081      5.432      0.000       0.280       0.596\n",
            "lnplkf         0.3707      0.044      8.340      0.000       0.284       0.458\n",
            "gq             0.2240      0.046      4.833      0.000       0.133       0.315\n",
            "==============================================================================\n",
            "Omnibus:                       20.442   Durbin-Watson:                   1.566\n",
            "Prob(Omnibus):                  0.000   Jarque-Bera (JB):              104.142\n",
            "Skew:                          -0.008   Prob(JB):                     2.43e-23\n",
            "Kurtosis:                       7.152   Cond. No.                         271.\n",
            "==============================================================================\n",
            "\n",
            "Warnings:\n",
            "[1] Standard Errors are heteroscedasticity robust (HC2)\n"
          ]
        }
      ]
    },
    {
      "cell_type": "code",
      "source": [
        "df1 = df[['lnc', 'ic', 'lnq', 'lnplkf']].copy()\n",
        "df1['dbeta4'] = df['lnq']/(1+np.exp(-df['lnq']+gammah))\n",
        "df1['dgamma'] = -res.params[3]*df['lnq']*(np.exp(-df['lnq']+gammah))/((1+np.exp(-df['lnq']+gammah))**2)\n",
        "Gb = (df1[['ic', 'lnq', 'lnplkf', 'dbeta4', 'dgamma']].copy()).to_numpy()\n",
        "qgg = Gb.T@Gb\n",
        "omgh = np.diag(rsd)@np.diag(rsd)\n",
        "vge = Gb.T@omgh@Gb\n",
        "v = np.linalg.inv(qgg)@vge@np.linalg.inv(qgg)\n",
        "print('Variance matrix is:', v)"
      ],
      "metadata": {
        "colab": {
          "base_uri": "https://localhost:8080/"
        },
        "id": "WYQhDyTSCUCu",
        "outputId": "25df98a2-3bdd-40e4-d84c-cfd140a78884"
      },
      "execution_count": 13,
      "outputs": [
        {
          "output_type": "stream",
          "name": "stdout",
          "text": [
            "Variance matrix is: [[ 0.24382005 -0.02895764 -0.01320376  0.0147946  -0.05959083]\n",
            " [-0.02895764  0.00991437 -0.00115884 -0.00535105  0.02704112]\n",
            " [-0.01320376 -0.00115884  0.00194905  0.00067614 -0.00339944]\n",
            " [ 0.0147946  -0.00535105  0.00067614  0.00297594 -0.0145128 ]\n",
            " [-0.05959083  0.02704112 -0.00339944 -0.0145128   0.12863013]]\n"
          ]
        }
      ]
    },
    {
      "cell_type": "code",
      "source": [
        "print('Standard errors are', sqrt(v[0,0]), \"for b1\" ', ', sqrt(v[1,1]), \"for b2\" ', ', sqrt(v[2,2]), \"for b3\" ', ', sqrt(v[3,3\n",
        "]),\"for b4\" ', ', sqrt(v[4,4]), ' for gamma')"
      ],
      "metadata": {
        "colab": {
          "base_uri": "https://localhost:8080/"
        },
        "id": "wg7ZmInBCrR4",
        "outputId": "1962a4ca-277e-4dd0-af7f-67f40f97069c"
      },
      "execution_count": 14,
      "outputs": [
        {
          "output_type": "stream",
          "name": "stdout",
          "text": [
            "Standard errors are 0.4937813767865487 for b1,  0.09957094932289591 for b2,  0.04414803932175496 for b3,  0.05455221811669976 for b4,  0.35865042525520147  for gamma\n"
          ]
        }
      ]
    },
    {
      "cell_type": "code",
      "source": [
        "tmp1 = (1 + np.exp(-df['lnq'] + gammah) + df['lnq']*np.exp(-df['lnq'] + gammah))/((1 + np.exp(-df['lnq'] + gammah))**2)\n",
        "avg_marg = np.sum(tmp1*res.params[3] + res.params[1])/145\n",
        "lnqavg = np.mean(df['lnq'])\n",
        "tmp2 = (1 + np.exp(-lnqavg + gammah) + lnqavg*np.exp(-lnqavg + gammah))/((1 + np.exp(-lnqavg + gammah))**2)\n",
        "marg_avg = tmp2*res.params[3] + res.params[1]\n",
        "print('Average marginal influence: ', avg_marg)\n",
        "print('Marginal influence at means: ', marg_avg)"
      ],
      "metadata": {
        "colab": {
          "base_uri": "https://localhost:8080/"
        },
        "id": "1TA0LXjuDRlL",
        "outputId": "dee67eb4-3e84-4843-deba-6d2a45db6aee"
      },
      "execution_count": 15,
      "outputs": [
        {
          "output_type": "stream",
          "name": "stdout",
          "text": [
            "Average marginal influence:  0.8040957883539818\n",
            "Marginal influence at means:  0.8901467101647086\n"
          ]
        }
      ]
    },
    {
      "cell_type": "code",
      "source": [
        "def f(beta):\n",
        "   return np.array(df['lnc'] - beta[0] - df['lnq']*beta[1] - df['lnplkf']*beta[2] - beta[3]*df['lnq']/(1 + np.exp(beta[4] - df['lnq']))) \n",
        "def g(dft, b0, b1, b2, b3, b4):\n",
        "  return np.array(b0 + dft['lnq']*b1 + dft['lnplkf']*b2 + b3*dft['lnq']/(1 + np.exp(b4 - dft['lnq' ])))"
      ],
      "metadata": {
        "id": "X0ywLriFDhw7"
      },
      "execution_count": 16,
      "outputs": []
    },
    {
      "cell_type": "code",
      "source": [
        "beta0 = np.array([0,0,0,0,0])\n",
        "beta1 = np.array([1,1,1,1,1])\n",
        "beta01 = np.array([0,0,0,0,1])\n",
        "beta10 = np.array([1,1,1,1,0])"
      ],
      "metadata": {
        "id": "PIwWtxwVDsXk"
      },
      "execution_count": 17,
      "outputs": []
    },
    {
      "cell_type": "code",
      "source": [
        "nlls1 = sp.optimize.least_squares(f, beta0)"
      ],
      "metadata": {
        "id": "RSBy0LUDDvoj"
      },
      "execution_count": 18,
      "outputs": []
    },
    {
      "cell_type": "code",
      "source": [
        "qgg1 = (nlls1.jac).T@nlls1.jac\n",
        "print(qgg1)"
      ],
      "metadata": {
        "colab": {
          "base_uri": "https://localhost:8080/"
        },
        "id": "f_zcJEAZD7kn",
        "outputId": "ed8beb3c-b3c5-4f13-efec-17feecde95a0"
      },
      "execution_count": 19,
      "outputs": [
        {
          "output_type": "stream",
          "name": "stdout",
          "text": [
            "[[  144.9999995    950.71440272  1310.40887363   948.67040225\n",
            "     29.90501165]\n",
            " [  950.71440272  6760.36620118  8573.89576648  6753.79506675\n",
            "     98.92817673]\n",
            " [ 1310.40887363  8573.89576648 11869.67847738  8555.11863327\n",
            "    274.64086287]\n",
            " [  948.67040225  6753.79506675  8555.11863327  6747.3800864\n",
            "     96.72376143]\n",
            " [   29.90501165    98.92817673   274.64086287    96.72376143\n",
            "     31.22233724]]\n"
          ]
        }
      ]
    },
    {
      "cell_type": "code",
      "source": [
        "betah1 = nlls1.x\n",
        "print(betah1)"
      ],
      "metadata": {
        "colab": {
          "base_uri": "https://localhost:8080/"
        },
        "id": "JQsE3HnNEB-F",
        "outputId": "acc1970a-411b-4e39-fb08-f57d415e89c6"
      },
      "execution_count": 20,
      "outputs": [
        {
          "output_type": "stream",
          "name": "stdout",
          "text": [
            "[ -7.6469326   16.34232246   0.34480276 -15.42140718  -0.7848473 ]\n"
          ]
        }
      ]
    },
    {
      "cell_type": "code",
      "source": [
        "vge1 = (nlls1.jac).T@np.diag(nlls1.fun)@np.diag(nlls1.fun)@nlls1.jac\n",
        "print(vge1)"
      ],
      "metadata": {
        "colab": {
          "base_uri": "https://localhost:8080/"
        },
        "id": "7M_7SJW7EETN",
        "outputId": "b8521b14-13a0-4f29-df37-7553ee7bddf7"
      },
      "execution_count": 21,
      "outputs": [
        {
          "output_type": "stream",
          "name": "stdout",
          "text": [
            "[[  12.93686258   53.63569827  118.79463142   52.86594121   11.05199091]\n",
            " [  53.63569827  297.70074731  488.95828595  296.04208248   24.29901653]\n",
            " [ 118.79463142  488.95828595 1092.20769353  481.78388321  102.98695209]\n",
            " [  52.86594121  296.04208248  481.78388321  294.46641522   23.12318001]\n",
            " [  11.05199091   24.29901653  102.98695209   23.12318001   16.6932328 ]]\n"
          ]
        }
      ]
    },
    {
      "cell_type": "code",
      "source": [
        "var1 = np.linalg.inv(qgg1)@vge1@np.linalg.inv(qgg1) \n",
        "for i in range(5):\n",
        "  print(sqrt(var1[i,i]))"
      ],
      "metadata": {
        "colab": {
          "base_uri": "https://localhost:8080/"
        },
        "id": "DmszlH0fEHaN",
        "outputId": "35877e41-3809-454e-8785-e34a5fc1c330"
      },
      "execution_count": 22,
      "outputs": [
        {
          "output_type": "stream",
          "name": "stdout",
          "text": [
            "0.48374221630189984\n",
            "29.971823527933513\n",
            "0.039198920823368524\n",
            "29.98972813860967\n",
            "2.237942711350128\n"
          ]
        }
      ]
    },
    {
      "cell_type": "code",
      "source": [
        "print(var1)"
      ],
      "metadata": {
        "colab": {
          "base_uri": "https://localhost:8080/"
        },
        "id": "HaZJJmFwEPCf",
        "outputId": "ec8e92c9-4483-4b98-e8b2-b3cbdf2baf45"
      },
      "execution_count": 23,
      "outputs": [
        {
          "output_type": "stream",
          "name": "stdout",
          "text": [
            "[[ 2.34006532e-01  4.00548808e+00 -1.60192142e-02 -4.01688969e+00\n",
            "  -3.53001691e-01]\n",
            " [ 4.00548808e+00  8.98310206e+02  4.99158816e-02 -8.98846448e+02\n",
            "  -6.67623795e+01]\n",
            " [-1.60192142e-02  4.99158816e-02  1.53655539e-03 -4.96231979e-02\n",
            "  -1.99906847e-03]\n",
            " [-4.01688969e+00 -8.98846448e+02 -4.96231980e-02  8.99383794e+02\n",
            "   6.68072189e+01]\n",
            " [-3.53001691e-01 -6.67623795e+01 -1.99906848e-03  6.68072189e+01\n",
            "   5.00838758e+00]]\n"
          ]
        }
      ]
    },
    {
      "cell_type": "code",
      "source": [
        "nlls1 = sp.optimize.least_squares(f, beta1)\n",
        "qgg1 = (nlls1.jac).T@nlls1.jac\n",
        "print('Qgg: ', qgg1)\n",
        "betah1 = nlls1.x\n",
        "print('Beta_hat: ', betah1)\n",
        "vge1 = (nlls1.jac).T@np.diag(nlls1.fun)@np.diag(nlls1.fun)@nlls1.jac \n",
        "print('Vge: ', vge1)\n",
        "var1 = np.linalg.inv(qgg1)@vge1@np.linalg.inv(qgg1)\n",
        "for i in range(5):\n",
        "    print('sd_' + str(i) + ': ', sqrt(var1[i,i]))\n",
        "print('Covariance matrix: ', var1)\n",
        "print('Beta_4 is gamma')"
      ],
      "metadata": {
        "colab": {
          "base_uri": "https://localhost:8080/"
        },
        "id": "STxCRb6aESWG",
        "outputId": "c0e8d139-ea8f-44cb-9354-ae619de8e095"
      },
      "execution_count": 24,
      "outputs": [
        {
          "output_type": "stream",
          "name": "stdout",
          "text": [
            "Qgg:  [[  145.00000005   950.71440543  1310.40887233   948.67033706\n",
            "     29.90504288]\n",
            " [  950.71440543  6760.36620177  8573.89572256  6753.79483423\n",
            "     98.92848301]\n",
            " [ 1310.40887233  8573.89572256 11869.67841187  8555.11796648\n",
            "    274.6411446 ]\n",
            " [  948.67033706  6753.79483423  8555.11796648  6747.37963048\n",
            "     96.7240022 ]\n",
            " [   29.90504288    98.92848301   274.6411446     96.7240022\n",
            "     31.22226018]]\n",
            "Beta_hat:  [ -7.64693268  16.34186506   0.34480252 -15.42094951  -0.78481357]\n",
            "Vge:  [[  12.93686264   53.63569912  118.79463746   52.86591748   11.05198869]\n",
            " [  53.63569912  297.70072438  488.95829393  296.04200479   24.29904134]\n",
            " [ 118.79463746  488.95829393 1092.20779759  481.78366153  102.98693924]\n",
            " [  52.86591748  296.04200479  481.78366153  294.46628797   23.12316898]\n",
            " [  11.05198869   24.29904134  102.98693924   23.12316898   16.69320482]]\n",
            "sd_0:  0.4837403829186554\n",
            "sd_1:  29.96989147882688\n",
            "sd_2:  0.03919887487146824\n",
            "sd_3:  29.98779593678886\n",
            "sd_4:  2.2378740198730767\n",
            "Covariance matrix:  [[ 2.34004758e-01  4.00503761e+00 -1.60191019e-02 -4.01643913e+00\n",
            "  -3.52978749e-01]\n",
            " [ 4.00503761e+00  8.98194395e+02  4.99289820e-02 -8.98730599e+02\n",
            "  -6.67560041e+01]\n",
            " [-1.60191019e-02  4.99289821e-02  1.53655179e-03 -4.96363083e-02\n",
            "  -2.00015353e-03]\n",
            " [-4.01643913e+00 -8.98730599e+02 -4.96363083e-02  8.99267905e+02\n",
            "   6.68008420e+01]\n",
            " [-3.52978749e-01 -6.67560041e+01 -2.00015352e-03  6.68008420e+01\n",
            "   5.00808013e+00]]\n",
            "Beta_4 is gamma\n"
          ]
        }
      ]
    },
    {
      "cell_type": "code",
      "source": [
        "nlls1 = sp.optimize.least_squares(f, beta01)\n",
        "qgg1 = (nlls1.jac).T@nlls1.jac\n",
        "print('Qgg: ', qgg1)\n",
        "betah1 = nlls1.x\n",
        "print('Beta_hat: ', betah1)\n",
        "vge1 = (nlls1.jac).T@np.diag(nlls1.fun)@np.diag(nlls1.fun)@nlls1.jac \n",
        "print('Vge: ', vge1)\n",
        "var1 = np.linalg.inv(qgg1)@vge1@np.linalg.inv(qgg1)\n",
        "for i in range(5):\n",
        "    print('sd_' + str(i) + ': ', sqrt(var1[i,i]))\n",
        "print('Covariance matrix: ', var1)\n",
        "print('Beta_4 is gamma')"
      ],
      "metadata": {
        "colab": {
          "base_uri": "https://localhost:8080/"
        },
        "id": "-B-hHogWEzal",
        "outputId": "00254e0b-50b2-4781-c509-7c3058c128b0"
      },
      "execution_count": 25,
      "outputs": [
        {
          "output_type": "stream",
          "name": "stdout",
          "text": [
            "Qgg:  [[  145.00000145   950.71440944  1310.40888567   948.67026513\n",
            "     29.90505556]\n",
            " [  950.71440944  6760.36620066  8573.89577575  6753.79458047\n",
            "     98.92864875]\n",
            " [ 1310.40888567  8573.89577575 11869.67853558  8555.11732184\n",
            "    274.64126312]\n",
            " [  948.67026513  6753.79458047  8555.11732184  6747.37913524\n",
            "     96.72409243]\n",
            " [   29.90505556    98.92864875   274.64126312    96.72409243\n",
            "     31.22217114]]\n",
            "Beta_hat:  [ -7.646936    16.34133361   0.34480256 -15.4204177   -0.78477429]\n",
            "Vge:  [[  12.93686265   53.63569724  118.79464393   52.86588743   11.05198722]\n",
            " [  53.63569724  297.70065839  488.95828195  296.04187661   24.2990708 ]\n",
            " [ 118.79464393  488.95828195 1092.20791501  481.78338618  102.98693467]\n",
            " [  52.86588743  296.04187661  481.78338618  294.46610362   23.12315698]\n",
            " [  11.05198722   24.2990708   102.98693467   23.12315698   16.6931759 ]]\n",
            "sd_0:  0.48374062562470205\n",
            "sd_1:  29.96760775503192\n",
            "sd_2:  0.03919888015925777\n",
            "sd_3:  29.985512396708604\n",
            "sd_4:  2.237792706751792\n",
            "Covariance matrix:  [[ 2.34004993e-01  4.00470703e+00 -1.60190729e-02 -4.01610862e+00\n",
            "  -3.52966618e-01]\n",
            " [ 4.00470703e+00  8.98057515e+02  4.99312745e-02 -8.98593683e+02\n",
            "  -6.67484651e+01]\n",
            " [-1.60190729e-02  4.99312745e-02  1.53655221e-03 -4.96386049e-02\n",
            "  -2.00045874e-03]\n",
            " [-4.01610862e+00 -8.98593683e+02 -4.96386049e-02  8.99130954e+02\n",
            "   6.67933020e+01]\n",
            " [-3.52966618e-01 -6.67484650e+01 -2.00045873e-03  6.67933019e+01\n",
            "   5.00771620e+00]]\n",
            "Beta_4 is gamma\n"
          ]
        }
      ]
    },
    {
      "cell_type": "code",
      "source": [
        "nlls1 = sp.optimize.least_squares(f, beta10)\n",
        "qgg1 = (nlls1.jac).T@nlls1.jac\n",
        "print('Qgg: ', qgg1)\n",
        "betah1 = nlls1.x\n",
        "print('Beta_hat: ', betah1)\n",
        "vge1 = (nlls1.jac).T@np.diag(nlls1.fun)@np.diag(nlls1.fun)@nlls1.jac \n",
        "print('Vge: ', vge1)\n",
        "var1 = np.linalg.inv(qgg1)@vge1@np.linalg.inv(qgg1)\n",
        "for i in range(5):\n",
        "    print('sd_' + str(i) + ': ', sqrt(var1[i,i]))\n",
        "print('Covariance matrix: ', var1)\n",
        "print('Beta_4 is gamma')"
      ],
      "metadata": {
        "colab": {
          "base_uri": "https://localhost:8080/"
        },
        "id": "HH6ZaG_2E2bj",
        "outputId": "3a97552a-94db-4362-d682-43e1e5d565e8"
      },
      "execution_count": 26,
      "outputs": [
        {
          "output_type": "stream",
          "name": "stdout",
          "text": [
            "Qgg:  [[  144.99999646   950.71439052  1310.40886308   948.67060083\n",
            "     29.90489495]\n",
            " [  950.71439052  6760.36620711  8573.89578491  6753.7957631\n",
            "     98.9272463 ]\n",
            " [ 1310.40886308  8573.89578491 11869.67853963  8555.1205881\n",
            "    274.63981   ]\n",
            " [  948.67060083  6753.7957631   8555.1205881   6747.38144187\n",
            "     96.72304526]\n",
            " [   29.90489495    98.9272463    274.63981       96.72304526\n",
            "     31.2225096 ]]\n",
            "Beta_hat:  [ -7.64692846  16.34378914   0.34480325 -15.4228749   -0.78495685]\n",
            "Vge:  [[  12.93686269   53.63570004  118.79461493   52.86602217   11.05198287]\n",
            " [  53.63570004  297.70087639  488.95828589  296.0423865    24.29889126]\n",
            " [ 118.79461493  488.95828589 1092.20738564  481.78462316  102.98685541]\n",
            " [  52.86602217  296.0423865   481.78462316  294.46687733   23.1231721 ]\n",
            " [  11.05198287   24.29889126  102.98685541   23.1231721    16.69328591]]\n",
            "sd_0:  0.48374173935874387\n",
            "sd_1:  29.978383822806805\n",
            "sd_2:  0.03919897586602662\n",
            "sd_3:  29.99628879714104\n",
            "sd_4:  2.238188314921182\n",
            "Covariance matrix:  [[ 2.34006070e-01  4.00646283e+00 -1.60192401e-02 -4.01786436e+00\n",
            "  -3.53039893e-01]\n",
            " [ 4.00646283e+00  8.98703497e+02  4.99246387e-02 -8.99239868e+02\n",
            "  -6.67844005e+01]\n",
            " [-1.60192401e-02  4.99246388e-02  1.53655971e-03 -4.96319565e-02\n",
            "  -1.99938088e-03]\n",
            " [-4.01786436e+00 -8.99239868e+02 -4.96319564e-02  8.99777342e+02\n",
            "   6.68292450e+01]\n",
            " [-3.53039893e-01 -6.67844005e+01 -1.99938087e-03  6.68292450e+01\n",
            "   5.00948693e+00]]\n",
            "Beta_4 is gamma\n"
          ]
        }
      ]
    },
    {
      "cell_type": "code",
      "source": [
        "nlls1 = sp.optimize.least_squares(f, [-1,0.5,0.5,0.5,5])\n",
        "qgg1 = (nlls1.jac).T@nlls1.jac\n",
        "print('Qgg: ', qgg1)\n",
        "betah1 = nlls1.x\n",
        "print('Beta_hat: ', betah1)\n",
        "vge1 = (nlls1.jac).T@np.diag(nlls1.fun)@np.diag(nlls1.fun)@nlls1.jac \n",
        "print('Vge: ', vge1)\n",
        "var1 = np.linalg.inv(qgg1)@vge1@np.linalg.inv(qgg1)\n",
        "for i in range(5):\n",
        "    print('sd_' + str(i) + ': ', sqrt(var1[i,i]))\n",
        "print('Covariance matrix: ', var1)\n",
        "print('Beta_4 is gamma')"
      ],
      "metadata": {
        "colab": {
          "base_uri": "https://localhost:8080/"
        },
        "id": "1ghUcAIQFIMn",
        "outputId": "6e1dbdd7-a0da-4808-e81f-db47963884e8"
      },
      "execution_count": 27,
      "outputs": [
        {
          "output_type": "stream",
          "name": "stdout",
          "text": [
            "Qgg:  [[  144.99999996   950.71440482  1310.40887829   533.88135372\n",
            "    -37.47819154]\n",
            " [  950.71440482  6760.36620039  8573.89577488  4168.58397384\n",
            "   -268.63337813]\n",
            " [ 1310.40887829  8573.89577488 11869.67852502  4803.88161668\n",
            "   -337.26034082]\n",
            " [  533.88135372  4168.58397384  4803.88161668  2969.35832001\n",
            "   -159.85791424]\n",
            " [  -37.47819154  -268.63337813  -337.26034082  -159.85791424\n",
            "     12.01428521]]\n",
            "Beta_hat:  [-5.32109613  0.43780691  0.37073415  0.22400569  6.87527291]\n",
            "Vge:  [[ 1.42720738e+01  5.79533894e+01  1.31063109e+02  1.97329092e+01\n",
            "  -1.51454836e+00]\n",
            " [ 5.79533894e+01  3.22254000e+02  5.28460725e+02  1.53053555e+02\n",
            "  -9.88926121e+00]\n",
            " [ 1.31063109e+02  5.28460725e+02  1.20502562e+03  1.79032312e+02\n",
            "  -1.36952435e+01]\n",
            " [ 1.97329092e+01  1.53053555e+02  1.79032312e+02  1.08906190e+02\n",
            "  -4.90041776e+00]\n",
            " [-1.51454836e+00 -9.88926121e+00 -1.36952435e+01 -4.90041776e+00\n",
            "   3.99380512e-01]]\n",
            "sd_0:  0.4937730392422245\n",
            "sd_1:  0.09956762913694774\n",
            "sd_2:  0.044148093631029256\n",
            "sd_3:  0.05454929198171368\n",
            "sd_4:  0.3586600958794843\n",
            "Covariance matrix:  [[ 0.24381181 -0.02895545 -0.0132036   0.01479322 -0.05958979]\n",
            " [-0.02895545  0.00991371 -0.00115887 -0.00535058  0.02704144]\n",
            " [-0.0132036  -0.00115887  0.00194905  0.00067614 -0.0034    ]\n",
            " [ 0.01479322 -0.00535058  0.00067614  0.00297563 -0.01451248]\n",
            " [-0.05958979  0.02704144 -0.0034     -0.01451248  0.12863706]]\n",
            "Beta_4 is gamma\n"
          ]
        }
      ]
    },
    {
      "cell_type": "code",
      "source": [
        "nlls1 = sp.optimize.least_squares(f, [1,0.5,0.5,0.5,5])\n",
        "qgg1 = (nlls1.jac).T@nlls1.jac\n",
        "print('Qgg: ', qgg1)\n",
        "betah1 = nlls1.x\n",
        "print('Beta_hat: ', betah1)\n",
        "vge1 = (nlls1.jac).T@np.diag(nlls1.fun)@np.diag(nlls1.fun)@nlls1.jac \n",
        "print('Vge: ', vge1)\n",
        "var1 = np.linalg.inv(qgg1)@vge1@np.linalg.inv(qgg1)\n",
        "for i in range(5):\n",
        "    print('sd_' + str(i) + ': ', sqrt(var1[i,i]))\n",
        "print('Covariance matrix: ', var1)\n",
        "print('Beta_4 is gamma')"
      ],
      "metadata": {
        "colab": {
          "base_uri": "https://localhost:8080/"
        },
        "id": "bsvSXS_mFMrT",
        "outputId": "a7992e02-baf6-4687-e847-344c32b7998e"
      },
      "execution_count": 28,
      "outputs": [
        {
          "output_type": "stream",
          "name": "stdout",
          "text": [
            "Qgg:  [[  144.99999978   950.71440389  1310.40887766   533.93952586\n",
            "    -37.47917139]\n",
            " [  950.71440389  6760.36620048  8573.89577587  4169.0009373\n",
            "   -268.63463501]\n",
            " [ 1310.40887766  8573.89577587 11869.67852875  4804.40510648\n",
            "   -337.26948265]\n",
            " [  533.93952586  4169.0009373   4804.40510648  2969.85458877\n",
            "   -159.86959419]\n",
            " [  -37.47917139  -268.63463501  -337.26948265  -159.86959419\n",
            "     12.01470322]]\n",
            "Beta_hat:  [-5.32108315  0.43777194  0.37074168  0.22402156  6.8749252 ]\n",
            "Vge:  [[ 1.42720738e+01  5.79543926e+01  1.31063065e+02  1.97365712e+01\n",
            "  -1.51475542e+00]\n",
            " [ 5.79543926e+01  3.22266399e+02  5.28470185e+02  1.53081187e+02\n",
            "  -9.89027657e+00]\n",
            " [ 1.31063065e+02  5.28470185e+02  1.20502480e+03  1.79065967e+02\n",
            "  -1.36971412e+01]\n",
            " [ 1.97365712e+01  1.53081187e+02  1.79065967e+02  1.08932415e+02\n",
            "  -4.90111674e+00]\n",
            " [-1.51475542e+00 -9.89027657e+00 -1.36971412e+01 -4.90111674e+00\n",
            "   3.99452054e-01]]\n",
            "sd_0:  0.4937966189459736\n",
            "sd_1:  0.09957701820788313\n",
            "sd_2:  0.04414794108256301\n",
            "sd_3:  0.05455756663195713\n",
            "sd_4:  0.35863272771026916\n",
            "Covariance matrix:  [[ 0.2438351  -0.02896165 -0.01320406  0.01479713 -0.05959273]\n",
            " [-0.02896165  0.00991558 -0.00115877 -0.00535192  0.02704053]\n",
            " [-0.01320406 -0.00115877  0.00194904  0.00067614 -0.00339841]\n",
            " [ 0.01479713 -0.00535192  0.00067614  0.00297653 -0.01451337]\n",
            " [-0.05959273  0.02704053 -0.00339841 -0.01451337  0.12861743]]\n",
            "Beta_4 is gamma\n"
          ]
        }
      ]
    },
    {
      "cell_type": "code",
      "source": [
        "nlls1 = sp.optimize.least_squares(f, [1,0.5,0.5,0.5,10])\n",
        "qgg1 = (nlls1.jac).T@nlls1.jac\n",
        "print('Qgg: ', qgg1)\n",
        "betah1 = nlls1.x\n",
        "print('Beta_hat: ', betah1)\n",
        "vge1 = (nlls1.jac).T@np.diag(nlls1.fun)@np.diag(nlls1.fun)@nlls1.jac \n",
        "print('Vge: ', vge1)\n",
        "var1 = np.linalg.inv(qgg1)@vge1@np.linalg.inv(qgg1)\n",
        "for i in range(5):\n",
        "    print('sd_' + str(i) + ': ', sqrt(var1[i,i]))\n",
        "print('Covariance matrix: ', var1)\n",
        "print('Beta_4 is gamma')"
      ],
      "metadata": {
        "colab": {
          "base_uri": "https://localhost:8080/"
        },
        "id": "WKq9REilFRHM",
        "outputId": "defb7f57-defe-4510-ee26-29218cafa3e5"
      },
      "execution_count": 29,
      "outputs": [
        {
          "output_type": "stream",
          "name": "stdout",
          "text": [
            "Qgg:  [[  144.99999964   950.71440345  1310.40887685   533.92750137\n",
            "    -37.47896922]\n",
            " [  950.71440345  6760.36620557  8573.89577672  4168.91475619\n",
            "   -268.63437819]\n",
            " [ 1310.40887685  8573.89577672 11869.67852559  4804.29690423\n",
            "   -337.2675965 ]\n",
            " [  533.92750137  4168.91475619  4804.29690423  2969.75200946\n",
            "   -159.86718174]\n",
            " [  -37.47896922  -268.63437819  -337.2675965   -159.86718174\n",
            "     12.01461705]]\n",
            "Beta_hat:  [-5.32108585  0.43777916  0.37074012  0.22401828  6.87499707]\n",
            "Vge:  [[ 1.42720738e+01  5.79541851e+01  1.31063074e+02  1.97358141e+01\n",
            "  -1.51471263e+00]\n",
            " [ 5.79541851e+01  3.22263836e+02  5.28468229e+02  1.53075475e+02\n",
            "  -9.89006679e+00]\n",
            " [ 1.31063074e+02  5.28468229e+02  1.20502497e+03  1.79059009e+02\n",
            "  -1.36967491e+01]\n",
            " [ 1.97358141e+01  1.53075475e+02  1.79059009e+02  1.08926993e+02\n",
            "  -4.90097228e+00]\n",
            " [-1.51471263e+00 -9.89006679e+00 -1.36967491e+01 -4.90097228e+00\n",
            "   3.99437273e-01]]\n",
            "sd_0:  0.4937917413646199\n",
            "sd_1:  0.09957507726593319\n",
            "sd_2:  0.044147971632270785\n",
            "sd_3:  0.05455585642011958\n",
            "sd_4:  0.35863838063994286\n",
            "Covariance matrix:  [[ 0.24383028 -0.02896037 -0.01320397  0.01479632 -0.05959212]\n",
            " [-0.02896037  0.0099152  -0.00115879 -0.00535164  0.02704071]\n",
            " [-0.01320397 -0.00115879  0.00194904  0.00067614 -0.00339874]\n",
            " [ 0.01479632 -0.00535164  0.00067614  0.00297634 -0.01451319]\n",
            " [-0.05959212  0.02704071 -0.00339874 -0.01451319  0.12862149]]\n",
            "Beta_4 is gamma\n"
          ]
        }
      ]
    },
    {
      "cell_type": "code",
      "source": [
        "nlls1 = sp.optimize.least_squares(f, [1,0.5,0.5,0.5,15])\n",
        "qgg1 = (nlls1.jac).T@nlls1.jac\n",
        "print('Qgg: ', qgg1)\n",
        "betah1 = nlls1.x\n",
        "print('Beta_hat: ', betah1)\n",
        "vge1 = (nlls1.jac).T@np.diag(nlls1.fun)@np.diag(nlls1.fun)@nlls1.jac \n",
        "print('Vge: ', vge1)\n",
        "var1 = np.linalg.inv(qgg1)@vge1@np.linalg.inv(qgg1)\n",
        "for i in range(5):\n",
        "    print('sd_' + str(i) + ': ', sqrt(var1[i,i]))\n",
        "print('Covariance matrix: ', var1)\n",
        "print('Beta_4 is gamma')"
      ],
      "metadata": {
        "colab": {
          "base_uri": "https://localhost:8080/"
        },
        "id": "osVkjDFbFWXN",
        "outputId": "db38d79e-c5a7-47b2-d4b3-7cc7516d696d"
      },
      "execution_count": 30,
      "outputs": [
        {
          "output_type": "stream",
          "name": "stdout",
          "text": [
            "Qgg:  [[  144.9999996    950.71440339  1310.4088766    533.8865007\n",
            "    -37.47827863]\n",
            " [  950.71440339  6760.36620103  8573.89577578  4168.62087375\n",
            "   -268.63349253]\n",
            " [ 1310.4088766   8573.89577578 11869.67852392  4803.92794351\n",
            "   -337.26115373]\n",
            " [  533.8865007   4168.62087375  4803.92794351  2969.40223734\n",
            "   -159.8589497 ]\n",
            " [  -37.47827863  -268.63349253  -337.26115373  -159.8589497\n",
            "     12.01432248]]\n",
            "Beta_hat:  [-5.32109481  0.43780381  0.3707348   0.2240071   6.87524214]\n",
            "Vge:  [[ 1.42720738e+01  5.79534783e+01  1.31063105e+02  1.97332334e+01\n",
            "  -1.51456670e+00]\n",
            " [ 5.79534783e+01  3.22255098e+02  5.28461563e+02  1.53056002e+02\n",
            "  -9.88935116e+00]\n",
            " [ 1.31063105e+02  5.28461563e+02  1.20502555e+03  1.79035291e+02\n",
            "  -1.36954116e+01]\n",
            " [ 1.97332334e+01  1.53056002e+02  1.79035291e+02  1.08908512e+02\n",
            "  -4.90047969e+00]\n",
            " [-1.51456670e+00 -9.88935116e+00 -1.36954116e+01 -4.90047969e+00\n",
            "   3.99386849e-01]]\n",
            "sd_0:  0.49377511534315466\n",
            "sd_1:  0.09956846054359897\n",
            "sd_2:  0.04414807958639056\n",
            "sd_3:  0.054550024516373107\n",
            "sd_4:  0.35865767343775146\n",
            "Covariance matrix:  [[ 0.24381386 -0.028956   -0.01320364  0.01479357 -0.05959004]\n",
            " [-0.028956    0.00991388 -0.00115886 -0.0053507   0.02704136]\n",
            " [-0.01320364 -0.00115886  0.00194905  0.00067614 -0.00339986]\n",
            " [ 0.01479357 -0.0053507   0.00067614  0.00297571 -0.01451256]\n",
            " [-0.05959004  0.02704136 -0.00339986 -0.01451256  0.12863533]]\n",
            "Beta_4 is gamma\n"
          ]
        }
      ]
    },
    {
      "cell_type": "code",
      "source": [
        "nlls1 = sp.optimize.least_squares(f, [1,0.5,0.5,0.5,0])\n",
        "qgg1 = (nlls1.jac).T@nlls1.jac\n",
        "print('Qgg: ', qgg1)\n",
        "betah1 = nlls1.x\n",
        "print('Beta_hat: ', betah1)\n",
        "vge1 = (nlls1.jac).T@np.diag(nlls1.fun)@np.diag(nlls1.fun)@nlls1.jac\n",
        "print('Vge: ', vge1)\n",
        "var1 = np.linalg.inv(qgg1)@vge1@np.linalg.inv(qgg1)\n",
        "for i in range(5):\n",
        "    print('sd_' + str(i) + ': ', sqrt(var1[i,i]))\n",
        "print('Covariance matrix: ', var1)\n",
        "print('Beta_4 is gamma')"
      ],
      "metadata": {
        "colab": {
          "base_uri": "https://localhost:8080/"
        },
        "id": "mZ5ARNhpFa7K",
        "outputId": "c83157a5-b110-4464-be7e-8793d6dc1dfd"
      },
      "execution_count": 31,
      "outputs": [
        {
          "output_type": "stream",
          "name": "stdout",
          "text": [
            "Qgg:  [[  145.000002     950.71441381  1310.4088839    948.67021016\n",
            "     29.90510364]\n",
            " [  950.71441381  6760.36620059  8573.89574207  6753.7943909\n",
            "     98.92908602]\n",
            " [ 1310.4088839   8573.89574207 11869.67844771  8555.11674226\n",
            "    274.64169573]\n",
            " [  948.67021016  6753.7943909   8555.11674226  6747.37876511\n",
            "     96.72446915]\n",
            " [   29.90510364    98.92908602   274.64169573    96.72446915\n",
            "     31.22210377]]\n",
            "Beta_hat:  [ -7.64693725  16.3409126    0.34480241 -15.41999638  -0.78474308]\n",
            "Vge:  [[  12.93686252   53.6356967   118.79464766   52.86586427   11.05198549]\n",
            " [  53.6356967   297.70062156  488.95827783  296.04178944   24.29909149]\n",
            " [ 118.79464766  488.95827783 1092.20799141  481.78317074  102.98692576]\n",
            " [  52.86586427  296.04178944  481.78317074  294.46597091   23.12314453]\n",
            " [  11.05198549   24.29909149  102.98692576   23.12314453   16.69315391]]\n",
            "sd_0:  0.4837412947889851\n",
            "sd_1:  29.96592920296398\n",
            "sd_2:  0.03919879354801847\n",
            "sd_3:  29.98383325757036\n",
            "sd_4:  2.2377362965527174\n",
            "Covariance matrix:  [[ 2.34005640e-01  4.00456116e+00 -1.60191148e-02 -4.01596275e+00\n",
            "  -3.52965341e-01]\n",
            " [ 4.00456116e+00  8.97956913e+02  4.99087816e-02 -8.98493033e+02\n",
            "  -6.67430253e+01]\n",
            " [-1.60191148e-02  4.99087816e-02  1.53654542e-03 -4.96160993e-02\n",
            "  -1.99888946e-03]\n",
            " [-4.01596275e+00 -8.98493034e+02 -4.96160994e-02  8.99030257e+02\n",
            "   6.67878599e+01]\n",
            " [-3.52965341e-01 -6.67430253e+01 -1.99888946e-03  6.67878599e+01\n",
            "   5.00746373e+00]]\n",
            "Beta_4 is gamma\n"
          ]
        }
      ]
    },
    {
      "cell_type": "code",
      "source": [
        "nlls1 = sp.optimize.least_squares(f, [1,0.5,0.5,0.5,1])\n",
        "qgg1 = (nlls1.jac).T@nlls1.jac\n",
        "print('Qgg: ', qgg1)\n",
        "betah1 = nlls1.x\n",
        "print('Beta_hat: ', betah1)\n",
        "vge1 = (nlls1.jac).T@np.diag(nlls1.fun)@np.diag(nlls1.fun)@nlls1.jac \n",
        "print('Vge: ', vge1)\n",
        "var1 = np.linalg.inv(qgg1)@vge1@np.linalg.inv(qgg1)\n",
        "for i in range(5):\n",
        "    print('sd_' + str(i) + ': ', sqrt(var1[i,i]))\n",
        "print('Covariance matrix: ', var1)\n",
        "print('Beta_4 is gamma')"
      ],
      "metadata": {
        "colab": {
          "base_uri": "https://localhost:8080/"
        },
        "id": "ss9rxa3hFdxD",
        "outputId": "7cce622c-abb7-4a53-d11c-47a86b975258"
      },
      "execution_count": 32,
      "outputs": [
        {
          "output_type": "stream",
          "name": "stdout",
          "text": [
            "Qgg:  [[  145.00000069   950.71440595  1310.40888585   948.67041625\n",
            "     29.90500376]\n",
            " [  950.71440595  6760.36619899  8573.89580785  6753.79509727\n",
            "     98.92808978]\n",
            " [ 1310.40888585  8573.89580785 11869.67861575  8555.11877362\n",
            "    274.64079071]\n",
            " [  948.67041625  6753.79509727  8555.11877362  6747.38014793\n",
            "     96.72368589]\n",
            " [   29.90500376    98.92808978   274.64079071    96.72368589\n",
            "     31.22235214]]\n",
            "Beta_hat:  [ -7.64693424  16.34240178   0.34480298 -15.42148654  -0.78485311]\n",
            "Vge:  [[  12.93686274   53.63569701  118.79463122   52.86594437   11.05199109]\n",
            " [  53.63569701  297.70073117  488.95827057  296.0420759    24.29900356]\n",
            " [ 118.79463122  488.95827057 1092.20767733  481.78390909  102.98695219]\n",
            " [  52.86594437  296.0420759   481.78390909  294.46641725   23.12317344]\n",
            " [  11.05199109   24.29900356  102.98695219   23.12317344   16.69324122]]\n",
            "sd_0:  0.4837432569414904\n",
            "sd_1:  29.97239041750476\n",
            "sd_2:  0.039198902552290985\n",
            "sd_3:  29.99029541848231\n",
            "sd_4:  2.2379728760683193\n",
            "Covariance matrix:  [[ 2.34007539e-01  4.00569365e+00 -1.60192158e-02 -4.01709538e+00\n",
            "  -3.53015272e-01]\n",
            " [ 4.00569364e+00  8.98344187e+02  4.99121413e-02 -8.98880452e+02\n",
            "  -6.67645513e+01]\n",
            " [-1.60192158e-02  4.99121413e-02  1.53655396e-03 -4.96194560e-02\n",
            "  -1.99877908e-03]\n",
            " [-4.01709538e+00 -8.98880452e+02 -4.96194559e-02  8.99417819e+02\n",
            "   6.68093921e+01]\n",
            " [-3.53015272e-01 -6.67645513e+01 -1.99877907e-03  6.68093921e+01\n",
            "   5.00852259e+00]]\n",
            "Beta_4 is gamma\n"
          ]
        }
      ]
    },
    {
      "cell_type": "code",
      "source": [
        "nlls1 = sp.optimize.least_squares(f, [1,0.5,0.5,0.5,25])\n",
        "qgg1 = (nlls1.jac).T@nlls1.jac\n",
        "print('Qgg: ', qgg1)\n",
        "betah1 = nlls1.x\n",
        "print('Beta_hat: ', betah1)\n",
        "vge1 = (nlls1.jac).T@np.diag(nlls1.fun)@np.diag(nlls1.fun)@nlls1.jac \n",
        "print('Vge: ', vge1)\n",
        "var1 = np.linalg.inv(qgg1)@vge1@np.linalg.inv(qgg1)\n",
        "for i in range(5):\n",
        "    print('sd_' + str(i) + ': ', sqrt(var1[i,i]))\n",
        "print('Covariance matrix: ', var1)\n",
        "print('Beta_4 is gamma')"
      ],
      "metadata": {
        "colab": {
          "base_uri": "https://localhost:8080/"
        },
        "id": "AbltkWhXGLcG",
        "outputId": "dccb1489-2397-4201-8d57-960039f64e96"
      },
      "execution_count": 34,
      "outputs": [
        {
          "output_type": "stream",
          "name": "stdout",
          "text": [
            "Qgg:  [[  145.           950.71440488  1310.40887868   533.87916296\n",
            "    -37.47815437]\n",
            " [  950.71440488  6760.36620397  8573.8957774   4168.56827533\n",
            "   -268.6333288 ]\n",
            " [ 1310.40887868  8573.8957774  11869.67852892  4803.8619061\n",
            "   -337.25999409]\n",
            " [  533.87916296  4168.56827533  4803.8619061   2969.33963451\n",
            "   -159.85747316]\n",
            " [  -37.47815437  -268.6333288   -337.25999409  -159.85747316\n",
            "     12.01426929]]\n",
            "Beta_hat:  [-5.32109664  0.43780823  0.37073387  0.2240051   6.875286  ]\n",
            "Vge:  [[ 1.42720738e+01  5.79533515e+01  1.31063111e+02  1.97327712e+01\n",
            "  -1.51454055e+00]\n",
            " [ 5.79533515e+01  3.22253533e+02  5.28460368e+02  1.53052515e+02\n",
            "  -9.88922288e+00]\n",
            " [ 1.31063111e+02  5.28460368e+02  1.20502566e+03  1.79031045e+02\n",
            "  -1.36951719e+01]\n",
            " [ 1.97327712e+01  1.53052515e+02  1.79031045e+02  1.08905203e+02\n",
            "  -4.90039140e+00]\n",
            " [-1.51454055e+00 -9.88922288e+00 -1.36951719e+01 -4.90039140e+00\n",
            "   3.99377812e-01]]\n",
            "sd_0:  0.49377214569017774\n",
            "sd_1:  0.09956727601944311\n",
            "sd_2:  0.044148099064612936\n",
            "sd_3:  0.054548980855799935\n",
            "sd_4:  0.3586611307962469\n",
            "Covariance matrix:  [[ 0.24381093 -0.02895522 -0.01320358  0.01479308 -0.05958967]\n",
            " [-0.02895522  0.00991364 -0.00115888 -0.00535053  0.02704147]\n",
            " [-0.01320358 -0.00115888  0.00194905  0.00067614 -0.00340006]\n",
            " [ 0.01479308 -0.00535053  0.00067614  0.00297559 -0.01451245]\n",
            " [-0.05958967  0.02704147 -0.00340006 -0.01451245  0.12863781]]\n",
            "Beta_4 is gamma\n"
          ]
        }
      ]
    },
    {
      "cell_type": "code",
      "source": [
        "nlls1 = sp.optimize.least_squares(f, [1,0.5,0.5,0.5,30])\n",
        "qgg1 = (nlls1.jac).T@nlls1.jac\n",
        "print('Qgg: ', qgg1)\n",
        "betah1 = nlls1.x\n",
        "print('Beta_hat: ', betah1)\n",
        "vge1 = (nlls1.jac).T@np.diag(nlls1.fun)@np.diag(nlls1.fun)@nlls1.jac \n",
        "print('Vge: ', vge1)\n",
        "var1 = np.linalg.inv(qgg1)@vge1@np.linalg.inv(qgg1)\n",
        "for i in range(5):\n",
        "    print('sd_' + str(i) + ': ', sqrt(var1[i,i]))\n",
        "print('Covariance matrix: ', var1)\n",
        "print('Beta_4 is gamma')"
      ],
      "metadata": {
        "colab": {
          "base_uri": "https://localhost:8080/"
        },
        "id": "JhSr9J44GYD1",
        "outputId": "53097b9f-8d85-4ccf-f0ca-7f7cfc84d908"
      },
      "execution_count": 35,
      "outputs": [
        {
          "output_type": "stream",
          "name": "stdout",
          "text": [
            "Qgg:  [[  145.           950.71440533  1310.40887845   533.88646074\n",
            "    -37.47827763]\n",
            " [  950.71440533  6760.36620821  8573.89577999  4168.62058447\n",
            "   -268.63348899]\n",
            " [ 1310.40887845  8573.89577999 11869.67852454  4803.92757684\n",
            "   -337.26114387]\n",
            " [  533.88646074  4168.62058447  4803.92757684  2969.40188943\n",
            "   -159.8589399 ]\n",
            " [  -37.47827763  -268.63348899  -337.26114387  -159.8589399\n",
            "     12.01432194]]\n",
            "Beta_hat:  [-5.32109497  0.43780384  0.37073481  0.22400709  6.87524238]\n",
            "Vge:  [[ 1.42720738e+01  5.79534774e+01  1.31063105e+02  1.97332306e+01\n",
            "  -1.51456654e+00]\n",
            " [ 5.79534774e+01  3.22255088e+02  5.28461555e+02  1.53055981e+02\n",
            "  -9.88935034e+00]\n",
            " [ 1.31063105e+02  5.28461555e+02  1.20502555e+03  1.79035266e+02\n",
            "  -1.36954101e+01]\n",
            " [ 1.97332306e+01  1.53055981e+02  1.79035266e+02  1.08908492e+02\n",
            "  -4.90047912e+00]\n",
            " [-1.51456654e+00 -9.88935034e+00 -1.36954101e+01 -4.90047912e+00\n",
            "   3.99386792e-01]]\n",
            "sd_0:  0.4937750997158138\n",
            "sd_1:  0.0995684539144922\n",
            "sd_2:  0.044148079720273556\n",
            "sd_3:  0.0545500188925255\n",
            "sd_4:  0.3586576917738516\n",
            "Covariance matrix:  [[ 0.24381385 -0.02895599 -0.01320364  0.01479357 -0.05959004]\n",
            " [-0.02895599  0.00991388 -0.00115886 -0.0053507   0.02704136]\n",
            " [-0.01320364 -0.00115886  0.00194905  0.00067614 -0.00339986]\n",
            " [ 0.01479357 -0.0053507   0.00067614  0.0029757  -0.01451256]\n",
            " [-0.05959004  0.02704136 -0.00339986 -0.01451256  0.12863534]]\n",
            "Beta_4 is gamma\n"
          ]
        }
      ]
    },
    {
      "cell_type": "code",
      "source": [
        "nlls1 = sp.optimize.least_squares(f, [1,0.5,0.5,0.5,35])\n",
        "qgg1 = (nlls1.jac).T@nlls1.jac\n",
        "print('Qgg: ', qgg1)\n",
        "betah1 = nlls1.x\n",
        "print('Beta_hat: ', betah1)\n",
        "vge1 = (nlls1.jac).T@np.diag(nlls1.fun)@np.diag(nlls1.fun)@nlls1.jac \n",
        "print('Vge: ', vge1)\n",
        "var1 = np.linalg.inv(qgg1)@vge1@np.linalg.inv(qgg1)\n",
        "for i in range(5):\n",
        "    print('sd_' + str(i) + ': ', sqrt(var1[i,i]))\n",
        "print('Covariance matrix: ', var1)\n",
        "print('Beta_4 is gamma')"
      ],
      "metadata": {
        "colab": {
          "base_uri": "https://localhost:8080/"
        },
        "id": "s6pL2l17Gg_E",
        "outputId": "5c204324-f8fb-4f0b-8cab-dbbba637ece5"
      },
      "execution_count": 36,
      "outputs": [
        {
          "output_type": "stream",
          "name": "stdout",
          "text": [
            "Qgg:  [[  145.00000043   950.71440659  1310.40888043   533.87928636\n",
            "    -37.47815674]\n",
            " [  950.71440659  6760.36620236  8573.89577746  4168.56915106\n",
            "   -268.6333331 ]\n",
            " [ 1310.40888043  8573.89577746 11869.67852585  4803.86300731\n",
            "   -337.2600154 ]\n",
            " [  533.87928636  4168.56915106  4803.86300731  2969.34067858\n",
            "   -159.85749877]\n",
            " [  -37.47815674  -268.6333331   -337.2600154   -159.85749877\n",
            "     12.01427032]]\n",
            "Beta_hat:  [-5.32109658  0.43780815  0.37073388  0.22400513  6.87528527]\n",
            "Vge:  [[ 1.42720737e+01  5.79533538e+01  1.31063110e+02  1.97327789e+01\n",
            "  -1.51454099e+00]\n",
            " [ 5.79533538e+01  3.22253560e+02  5.28460390e+02  1.53052573e+02\n",
            "  -9.88922511e+00]\n",
            " [ 1.31063110e+02  5.28460390e+02  1.20502565e+03  1.79031116e+02\n",
            "  -1.36951760e+01]\n",
            " [ 1.97327789e+01  1.53052573e+02  1.79031116e+02  1.08905258e+02\n",
            "  -4.90039291e+00]\n",
            " [-1.51454099e+00 -9.88922511e+00 -1.36951760e+01 -4.90039291e+00\n",
            "   3.99377968e-01]]\n",
            "sd_0:  0.4937721962650211\n",
            "sd_1:  0.09956729583395312\n",
            "sd_2:  0.0441480986554375\n",
            "sd_3:  0.054548998130247876\n",
            "sd_4:  0.3586610705223617\n",
            "Covariance matrix:  [[ 0.24381098 -0.02895523 -0.01320358  0.01479308 -0.05958968]\n",
            " [-0.02895523  0.00991365 -0.00115888 -0.00535053  0.02704147]\n",
            " [-0.01320358 -0.00115888  0.00194905  0.00067614 -0.00340006]\n",
            " [ 0.01479308 -0.00535053  0.00067614  0.00297559 -0.01451245]\n",
            " [-0.05958968  0.02704147 -0.00340006 -0.01451245  0.12863776]]\n",
            "Beta_4 is gamma\n"
          ]
        }
      ]
    },
    {
      "cell_type": "code",
      "source": [
        "nlls1 = sp.optimize.least_squares(f, [1,0.5,0.5,0.5,40])\n",
        "qgg1 = (nlls1.jac).T@nlls1.jac\n",
        "print('Qgg: ', qgg1)\n",
        "betah1 = nlls1.x\n",
        "print('Beta_hat: ', betah1)\n",
        "vge1 = (nlls1.jac).T@np.diag(nlls1.fun)@np.diag(nlls1.fun)@nlls1.jac \n",
        "print('Vge: ', vge1)\n",
        "var1 = np.linalg.inv(qgg1)@vge1@np.linalg.inv(qgg1)\n",
        "for i in range(5):\n",
        "    print('sd_' + str(i) + ': ', sqrt(var1[i,i]))\n",
        "print('Covariance matrix: ', var1)\n",
        "print('Beta_4 is gamma')"
      ],
      "metadata": {
        "colab": {
          "base_uri": "https://localhost:8080/"
        },
        "id": "ePzf1tTaGlWO",
        "outputId": "5ae5f17c-4ceb-465a-84b5-db418f523c0d"
      },
      "execution_count": 37,
      "outputs": [
        {
          "output_type": "stream",
          "name": "stdout",
          "text": [
            "Qgg:  [[  145.           950.714405    1310.4088788    533.87857228\n",
            "    -37.47814476]\n",
            " [  950.714405    6760.36620311  8573.89577906  4168.56404039\n",
            "   -268.63331845]\n",
            " [ 1310.4088788   8573.89577906 11869.678531    4803.85659119\n",
            "   -337.2599044 ]\n",
            " [  533.87857228  4168.56404039  4803.85659119  2969.33459458\n",
            "   -159.85735606]\n",
            " [  -37.47814476  -268.63331845  -337.2599044   -159.85735606\n",
            "     12.01426527]]\n",
            "Beta_hat:  [-5.32109664  0.43780858  0.37073378  0.22400494  6.87528953]\n",
            "Vge:  [[ 1.42720738e+01  5.79533416e+01  1.31063111e+02  1.97327342e+01\n",
            "  -1.51453846e+00]\n",
            " [ 5.79533416e+01  3.22253409e+02  5.28460274e+02  1.53052236e+02\n",
            "  -9.88921268e+00]\n",
            " [ 1.31063111e+02  5.28460274e+02  1.20502566e+03  1.79030704e+02\n",
            "  -1.36951528e+01]\n",
            " [ 1.97327342e+01  1.53052236e+02  1.79030704e+02  1.08904938e+02\n",
            "  -4.90038438e+00]\n",
            " [-1.51453846e+00 -9.88921268e+00 -1.36951528e+01 -4.90038438e+00\n",
            "   3.99377093e-01]]\n",
            "sd_0:  0.49377191829826256\n",
            "sd_1:  0.09956718042751155\n",
            "sd_2:  0.04414810031790381\n",
            "sd_3:  0.05454889668677006\n",
            "sd_4:  0.35866139930648083\n",
            "Covariance matrix:  [[ 0.24381071 -0.02895515 -0.01320358  0.01479304 -0.05958965]\n",
            " [-0.02895515  0.00991362 -0.00115888 -0.00535052  0.02704148]\n",
            " [-0.01320358 -0.00115888  0.00194905  0.00067614 -0.00340008]\n",
            " [ 0.01479304 -0.00535052  0.00067614  0.00297558 -0.01451244]\n",
            " [-0.05958965  0.02704148 -0.00340008 -0.01451244  0.128638  ]]\n",
            "Beta_4 is gamma\n"
          ]
        }
      ]
    },
    {
      "cell_type": "code",
      "source": [
        "nlls1 = sp.optimize.least_squares(f, [1,0.5,0.5,0.5,-10])\n",
        "qgg1 = (nlls1.jac).T@nlls1.jac\n",
        "print('Qgg: ', qgg1)\n",
        "betah1 = nlls1.x\n",
        "print('Beta_hat: ', betah1)\n",
        "vge1 = (nlls1.jac).T@np.diag(nlls1.fun)@np.diag(nlls1.fun)@nlls1.jac \n",
        "print('Vge: ', vge1)\n",
        "var1 = np.linalg.inv(qgg1)@vge1@np.linalg.inv(qgg1)\n",
        "for i in range(5):\n",
        "    print('sd_' + str(i) + ': ', sqrt(var1[i,i]))\n",
        "print('Covariance matrix: ', var1)\n",
        "print('Beta_4 is gamma')"
      ],
      "metadata": {
        "colab": {
          "base_uri": "https://localhost:8080/"
        },
        "id": "UUAF9FBmGs_0",
        "outputId": "a11f5a63-d2c0-4e13-9f9d-3d50c55adba6"
      },
      "execution_count": 38,
      "outputs": [
        {
          "output_type": "stream",
          "name": "stdout",
          "text": [
            "Qgg:  [[  145.00000036   950.71440598  1310.40887968   948.67017509\n",
            "     29.9051004 ]\n",
            " [  950.71440598  6760.36619579  8573.89576952  6753.79429589\n",
            "     98.92907781]\n",
            " [ 1310.40887968  8573.89576952 11869.67850844  8555.11652024\n",
            "    274.64165421]\n",
            " [  948.67017509  6753.79429589  8555.11652024  6747.37858396\n",
            "     96.72443332]\n",
            " [   29.9051004     98.92907781   274.64165421    96.72443332\n",
            "     31.22207745]]\n",
            "Beta_hat:  [ -7.64693812  16.34072222   0.3448024  -15.41980589  -0.7847289 ]\n",
            "Vge:  [[  12.93686241   53.63569535  118.79464969   52.86585277   11.0519872 ]\n",
            " [  53.63569535  297.70060119  488.95828134  296.04174726   24.29910888]\n",
            " [ 118.79464969  488.95828134 1092.20803868  481.78307939  102.98694306]\n",
            " [  52.86585277  296.04174726  481.78307939  294.46590911   23.12314658]\n",
            " [  11.0519872    24.29910888  102.98694306   23.12314658   16.69314846]]\n",
            "sd_0:  0.4837425901031521\n",
            "sd_1:  29.965085710007063\n",
            "sd_2:  0.0391988413977697\n",
            "sd_3:  29.98298989421753\n",
            "sd_4:  2.237705477412771\n",
            "Covariance matrix:  [[ 2.34006893e-01  4.00447546e+00 -1.60191822e-02 -4.01587715e+00\n",
            "  -3.52963715e-01]\n",
            " [ 4.00447546e+00  8.97906362e+02  4.99062220e-02 -8.98442471e+02\n",
            "  -6.67402173e+01]\n",
            " [-1.60191822e-02  4.99062220e-02  1.53654917e-03 -4.96135357e-02\n",
            "  -1.99871963e-03]\n",
            " [-4.01587715e+00 -8.98442471e+02 -4.96135357e-02  8.98979683e+02\n",
            "   6.67850517e+01]\n",
            " [-3.52963715e-01 -6.67402173e+01 -1.99871963e-03  6.67850517e+01\n",
            "   5.00732580e+00]]\n",
            "Beta_4 is gamma\n"
          ]
        }
      ]
    },
    {
      "cell_type": "code",
      "source": [
        "nlls1 = sp.optimize.least_squares(f, [0,0,0,0,5])\n",
        "qgg1 = (nlls1.jac).T@nlls1.jac\n",
        "print('Qgg: ', qgg1)\n",
        "betah1 = nlls1.x\n",
        "print('Beta_hat: ', betah1)\n",
        "vge1 = (nlls1.jac).T@np.diag(nlls1.fun)@np.diag(nlls1.fun)@nlls1.jac \n",
        "print('Vge: ', vge1)\n",
        "var1 = np.linalg.inv(qgg1)@vge1@np.linalg.inv(qgg1)\n",
        "for i in range(5):\n",
        "    print('sd_' + str(i) + ': ', sqrt(var1[i,i]))\n",
        "print('Covariance matrix: ', var1)\n",
        "print('Beta_4 is gamma')"
      ],
      "metadata": {
        "colab": {
          "base_uri": "https://localhost:8080/"
        },
        "id": "r6iH9_dPGyJT",
        "outputId": "d9f5cd1d-d20c-49d5-a59c-e29c13a14cf7"
      },
      "execution_count": 39,
      "outputs": [
        {
          "output_type": "stream",
          "name": "stdout",
          "text": [
            "Qgg:  [[  145.00000031   950.71440645  1310.40887982   533.93852012\n",
            "    -37.47915499]\n",
            " [  950.71440645  6760.36621159  8573.89578014  4168.9937258\n",
            "   -268.63461697]\n",
            " [ 1310.40887982  8573.89578014 11869.67852399  4804.39604642\n",
            "   -337.26932866]\n",
            " [  533.93852012  4168.9937258   4804.39604642  2969.84600007\n",
            "   -159.86939419]\n",
            " [  -37.47915499  -268.63461697  -337.26932866  -159.86939419\n",
            "     12.01469628]]\n",
            "Beta_hat:  [-5.32108323  0.43777254  0.37074153  0.22402129  6.87493122]\n",
            "Vge:  [[ 1.42720738e+01  5.79543754e+01  1.31063066e+02  1.97365079e+01\n",
            "  -1.51475185e+00]\n",
            " [ 5.79543754e+01  3.22266187e+02  5.28470024e+02  1.53080710e+02\n",
            "  -9.89025914e+00]\n",
            " [ 1.31063066e+02  5.28470024e+02  1.20502481e+03  1.79065386e+02\n",
            "  -1.36971085e+01]\n",
            " [ 1.97365079e+01  1.53080710e+02  1.79065386e+02  1.08931963e+02\n",
            "  -4.90110472e+00]\n",
            " [-1.51475185e+00 -9.89025914e+00 -1.36971085e+01 -4.90110472e+00\n",
            "   3.99450825e-01]]\n",
            "sd_0:  0.49379623464353867\n",
            "sd_1:  0.09957685642231902\n",
            "sd_2:  0.0441479436543184\n",
            "sd_3:  0.05455742389369145\n",
            "sd_4:  0.35863320037788377\n",
            "Covariance matrix:  [[ 0.24383472 -0.02896155 -0.01320405  0.01479706 -0.05959269]\n",
            " [-0.02896155  0.00991555 -0.00115877 -0.0053519   0.02704054]\n",
            " [-0.01320405 -0.00115877  0.00194904  0.00067614 -0.00339844]\n",
            " [ 0.01479706 -0.0053519   0.00067614  0.00297651 -0.01451335]\n",
            " [-0.05959269  0.02704054 -0.00339844 -0.01451335  0.12861777]]\n",
            "Beta_4 is gamma\n"
          ]
        }
      ]
    },
    {
      "cell_type": "code",
      "source": [
        "gamma_l = 0\n",
        "gamma_u = 10\n",
        "grid = np.linspace(gamma_l, gamma_u, num = 10000) \n",
        "def itr(k):\n",
        "  tmp = df[['lnc', 'ic', 'lnq', 'lnplkf']].copy() \n",
        "  tmp['gq'] = df['lnq']/(1+np.exp(-df['lnq']+grid[k])) \n",
        "  return tmp"
      ],
      "metadata": {
        "id": "NQ1facp4G5t4"
      },
      "execution_count": 40,
      "outputs": []
    },
    {
      "cell_type": "code",
      "source": [
        "searr = np.array([]) \n",
        "for i in range(10000):\n",
        "    itri = itr(i)\n",
        "    mdi = sm.OLS(itri['lnc'], itri[['ic', 'lnq', 'lnplkf', 'gq']])\n",
        "    resi = mdi.fit(cov_type = 'HC2')\n",
        "    searr = np.append(searr, resi.ssr/145)\n",
        "gse = searr.min()\n",
        "gammah = grid[searr.argmin()]\n",
        "print(searr.argmin())\n",
        "print('Gamma_hat is', gammah)"
      ],
      "metadata": {
        "colab": {
          "base_uri": "https://localhost:8080/"
        },
        "id": "1w_BEAL5HY-a",
        "outputId": "63e65e65-b5b3-4507-efed-ffd38a4e73c5"
      },
      "execution_count": 43,
      "outputs": [
        {
          "output_type": "stream",
          "name": "stdout",
          "text": [
            "0\n",
            "Gamma_hat is 0.0\n"
          ]
        }
      ]
    },
    {
      "cell_type": "code",
      "source": [
        "itr = itr(6036)\n",
        "md = sm.OLS(itr['lnc'], itr[['ic', 'lnq', 'lnplkf', 'gq']])\n",
        "res = md.fit(cov_type = 'HC2')\n",
        "rsd = res.resid\n",
        "print(res.summary())"
      ],
      "metadata": {
        "colab": {
          "base_uri": "https://localhost:8080/"
        },
        "id": "1T97EyhmJVIP",
        "outputId": "81f99b7d-9f00-45e5-8347-bc1bbc46b316"
      },
      "execution_count": 44,
      "outputs": [
        {
          "output_type": "stream",
          "name": "stdout",
          "text": [
            "                            OLS Regression Results                            \n",
            "==============================================================================\n",
            "Dep. Variable:                    lnc   R-squared:                       0.949\n",
            "Model:                            OLS   Adj. R-squared:                  0.948\n",
            "Method:                 Least Squares   F-statistic:                     646.4\n",
            "Date:                Wed, 08 Jun 2022   Prob (F-statistic):           3.62e-82\n",
            "Time:                        17:49:50   Log-Likelihood:                -40.065\n",
            "No. Observations:                 145   AIC:                             88.13\n",
            "Df Residuals:                     141   BIC:                             100.0\n",
            "Df Model:                           3                                         \n",
            "Covariance Type:                  HC2                                         \n",
            "==============================================================================\n",
            "                 coef    std err          z      P>|z|      [0.025      0.975]\n",
            "------------------------------------------------------------------------------\n",
            "ic            -5.2728      0.585     -9.007      0.000      -6.420      -4.125\n",
            "lnq            0.3442      0.111      3.090      0.002       0.126       0.563\n",
            "lnplkf         0.3850      0.047      8.118      0.000       0.292       0.478\n",
            "gq             0.2755      0.066      4.183      0.000       0.146       0.405\n",
            "==============================================================================\n",
            "Omnibus:                       18.878   Durbin-Watson:                   1.524\n",
            "Prob(Omnibus):                  0.000   Jarque-Bera (JB):               82.178\n",
            "Skew:                           0.130   Prob(JB):                     1.43e-18\n",
            "Kurtosis:                       6.679   Cond. No.                         279.\n",
            "==============================================================================\n",
            "\n",
            "Warnings:\n",
            "[1] Standard Errors are heteroscedasticity robust (HC2)\n"
          ]
        }
      ]
    },
    {
      "cell_type": "code",
      "source": [
        "df1 = df[['lnc', 'ic', 'lnq', 'lnplkf']].copy()\n",
        "df1['dbeta4'] = df['lnq']/(1+np.exp(-df['lnq']+gammah))\n",
        "df1['dgamma'] = -res.params[3]*df['lnq']*(np.exp(-df['lnq']+gammah))/((1+np.exp(-df['lnq']+gammah))**2)\n",
        "Gb = (df1[['ic', 'lnq', 'lnplkf', 'dbeta4', 'dgamma']].copy()).to_numpy()\n",
        "qgg = Gb.T@Gb\n",
        "omgh = np.diag(rsd)@np.diag(rsd)\n",
        "vge = Gb.T@omgh@Gb\n",
        "v = np.linalg.inv(qgg)@vge@np.linalg.inv(qgg)\n",
        "print('Variance matrix is:', v)"
      ],
      "metadata": {
        "colab": {
          "base_uri": "https://localhost:8080/"
        },
        "id": "bM5V94tfcAyl",
        "outputId": "78be8b82-523d-4993-9fbe-5d225fca41f2"
      },
      "execution_count": 45,
      "outputs": [
        {
          "output_type": "stream",
          "name": "stdout",
          "text": [
            "Variance matrix is: [[ 3.11923438e-01  1.64153261e+00 -2.00219937e-02 -1.65846786e+00\n",
            "   9.62626719e+00]\n",
            " [ 1.64153261e+00  8.91073940e+01 -1.02225594e-02 -8.92947760e+01\n",
            "   3.98855863e+02]\n",
            " [-2.00219937e-02 -1.02225594e-02  1.80996415e-03  1.07276933e-02\n",
            "  -1.10134410e-01]\n",
            " [-1.65846786e+00 -8.92947760e+01  1.07276933e-02  8.94837321e+01\n",
            "  -3.99907970e+02]\n",
            " [ 9.62626719e+00  3.98855863e+02 -1.10134410e-01 -3.99907970e+02\n",
            "   1.83959157e+03]]\n"
          ]
        }
      ]
    },
    {
      "cell_type": "code",
      "source": [
        "print('Standard errors are', sqrt(v[0,0]), \"for b1\" ', ', sqrt(v[1,1]), \"for b2\" ', ', sqrt(v[2,2]), \"for b3\" ', ', sqrt(v[3,3\n",
        "]),\"for b4\" ', ', sqrt(v[4,4]), ' for gamma')"
      ],
      "metadata": {
        "colab": {
          "base_uri": "https://localhost:8080/"
        },
        "id": "AK3QDMeRcMM4",
        "outputId": "6f29750a-a9d1-4840-e147-fe33c74d9683"
      },
      "execution_count": 46,
      "outputs": [
        {
          "output_type": "stream",
          "name": "stdout",
          "text": [
            "Standard errors are 0.5585010634909353 for b1,  9.439671287978475 for b2,  0.04254367347894709 for b3,  9.459584141509252 for b4,  42.8904601129052  for gamma\n"
          ]
        }
      ]
    },
    {
      "cell_type": "code",
      "source": [
        "gamma_l = 6\n",
        "gamma_u = 16\n",
        "grid = np.linspace(gamma_l, gamma_u, num = 10000) \n",
        "def itr(k):\n",
        "  tmp = df[['lnc', 'ic', 'lnq', 'lnplkf']].copy() \n",
        "  tmp['gq'] = df['lnq']/(1+np.exp(-df['lnq']+grid[k])) \n",
        "  return tmp"
      ],
      "metadata": {
        "id": "l3BxCN45cRJ2"
      },
      "execution_count": 47,
      "outputs": []
    },
    {
      "cell_type": "code",
      "source": [
        "searr = np.array([]) \n",
        "for i in range(10000):\n",
        "    itri = itr(i)\n",
        "    mdi = sm.OLS(itri['lnc'], itri[['ic', 'lnq', 'lnplkf', 'gq']])\n",
        "    resi = mdi.fit(cov_type = 'HC2')\n",
        "    searr = np.append(searr, resi.ssr/145)\n",
        "gse = searr.min()\n",
        "gammah = grid[searr.argmin()]\n",
        "print(searr.argmin())\n",
        "print('Gamma_hat is', gammah)"
      ],
      "metadata": {
        "colab": {
          "base_uri": "https://localhost:8080/"
        },
        "id": "iUsFRQ_mcWO3",
        "outputId": "a852210f-7786-4f27-b9cf-af251c205ada"
      },
      "execution_count": 48,
      "outputs": [
        {
          "output_type": "stream",
          "name": "stdout",
          "text": [
            "875\n",
            "Gamma_hat is 6.875087508750875\n"
          ]
        }
      ]
    },
    {
      "cell_type": "code",
      "source": [
        "itr = itr(6036)\n",
        "md = sm.OLS(itr['lnc'], itr[['ic', 'lnq', 'lnplkf', 'gq']])\n",
        "res = md.fit(cov_type = 'HC2')\n",
        "rsd = res.resid\n",
        "print(res.summary())"
      ],
      "metadata": {
        "colab": {
          "base_uri": "https://localhost:8080/"
        },
        "id": "FXm6RaGnceSN",
        "outputId": "c169cbbc-59ff-4533-bb6b-eb0e60ffcfb6"
      },
      "execution_count": 49,
      "outputs": [
        {
          "output_type": "stream",
          "name": "stdout",
          "text": [
            "                            OLS Regression Results                            \n",
            "==============================================================================\n",
            "Dep. Variable:                    lnc   R-squared:                       0.942\n",
            "Model:                            OLS   Adj. R-squared:                  0.941\n",
            "Method:                 Least Squares   F-statistic:                     779.7\n",
            "Date:                Wed, 08 Jun 2022   Prob (F-statistic):           1.50e-87\n",
            "Time:                        17:56:45   Log-Likelihood:                -49.504\n",
            "No. Observations:                 145   AIC:                             107.0\n",
            "Df Residuals:                     141   BIC:                             118.9\n",
            "Df Model:                           3                                         \n",
            "Covariance Type:                  HC2                                         \n",
            "==============================================================================\n",
            "                 coef    std err          z      P>|z|      [0.025      0.975]\n",
            "------------------------------------------------------------------------------\n",
            "ic            -5.3996      0.470    -11.494      0.000      -6.320      -4.479\n",
            "lnq            0.6285      0.041     15.148      0.000       0.547       0.710\n",
            "lnplkf         0.3130      0.045      6.881      0.000       0.224       0.402\n",
            "gq             1.7206      0.289      5.958      0.000       1.155       2.287\n",
            "==============================================================================\n",
            "Omnibus:                       31.470   Durbin-Watson:                   1.333\n",
            "Prob(Omnibus):                  0.000   Jarque-Bera (JB):              138.026\n",
            "Skew:                           0.635   Prob(JB):                     1.07e-30\n",
            "Kurtosis:                       7.608   Cond. No.                         259.\n",
            "==============================================================================\n",
            "\n",
            "Warnings:\n",
            "[1] Standard Errors are heteroscedasticity robust (HC2)\n"
          ]
        }
      ]
    },
    {
      "cell_type": "code",
      "source": [
        "df1 = df[['lnc', 'ic', 'lnq', 'lnplkf']].copy()\n",
        "df1['dbeta4'] = df['lnq']/(1+np.exp(-df['lnq']+gammah))\n",
        "df1['dgamma'] = -res.params[3]*df['lnq']*(np.exp(-df['lnq']+gammah))/((1+np.exp(-df['lnq']+gammah))**2)\n",
        "Gb = (df1[['ic', 'lnq', 'lnplkf', 'dbeta4', 'dgamma']].copy()).to_numpy()\n",
        "qgg = Gb.T@Gb\n",
        "omgh = np.diag(rsd)@np.diag(rsd)\n",
        "vge = Gb.T@omgh@Gb\n",
        "v = np.linalg.inv(qgg)@vge@np.linalg.inv(qgg)\n",
        "print('Variance matrix is:', v)"
      ],
      "metadata": {
        "colab": {
          "base_uri": "https://localhost:8080/"
        },
        "id": "k7rTlqTLdkuD",
        "outputId": "cb6493d1-4345-4eb2-cfc7-11b129ee5110"
      },
      "execution_count": 51,
      "outputs": [
        {
          "output_type": "stream",
          "name": "stdout",
          "text": [
            "Variance matrix is: [[ 0.23220761 -0.02841533 -0.01190499  0.0146854  -0.00603866]\n",
            " [-0.02841533  0.01243588 -0.00231437 -0.00676781  0.00441727]\n",
            " [-0.01190499 -0.00231437  0.00229916  0.00128722 -0.0009788 ]\n",
            " [ 0.0146854  -0.00676781  0.00128722  0.0037578  -0.00247845]\n",
            " [-0.00603866  0.00441727 -0.0009788  -0.00247845  0.00252455]]\n"
          ]
        }
      ]
    },
    {
      "cell_type": "code",
      "source": [
        "print('Standard errors are', sqrt(v[0,0]), \"for b1\" ', ', sqrt(v[1,1]), \"for b2\" ', ', sqrt(v[2,2]), \"for b3\" ', ', sqrt(v[3,3\n",
        "]),\"for b4\" ', ', sqrt(v[4,4]), ' for gamma')"
      ],
      "metadata": {
        "colab": {
          "base_uri": "https://localhost:8080/"
        },
        "id": "zCWoxcjDdtel",
        "outputId": "ccc46599-1091-4b7a-a850-ab36c30b4e48"
      },
      "execution_count": 52,
      "outputs": [
        {
          "output_type": "stream",
          "name": "stdout",
          "text": [
            "Standard errors are 0.48187925335889414 for b1,  0.11151625475194613 for b2,  0.04794955445219166 for b3,  0.061300922431569996 for b4,  0.05024487662121092  for gamma\n"
          ]
        }
      ]
    },
    {
      "cell_type": "markdown",
      "source": [
        "The results are identical only when γ has right starting value. When it is too small or too big the results differ. In case of 50, for example, it does not work. However, smooth function tolerate greater differences between true γ and starting one. With concentration method we need a larger partition. Hence, these two methods work but differently. "
      ],
      "metadata": {
        "id": "iTzbd-QqJj14"
      }
    }
  ]
}